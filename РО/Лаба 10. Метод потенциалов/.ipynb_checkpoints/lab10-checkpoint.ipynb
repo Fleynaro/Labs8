{
 "cells": [
  {
   "cell_type": "code",
   "execution_count": 2,
   "metadata": {},
   "outputs": [],
   "source": [
    "import os\n",
    "import cv2\n",
    "import re\n",
    "import numpy as np\n",
    "import matplotlib.pyplot as plt\n",
    "%matplotlib inline"
   ]
  },
  {
   "cell_type": "code",
   "execution_count": 32,
   "metadata": {},
   "outputs": [],
   "source": [
    "img = cv2.imread('processed\\\\1\\\\0017.png', cv2.IMREAD_UNCHANGED).astype(float) / 255.0"
   ]
  },
  {
   "cell_type": "code",
   "execution_count": 23,
   "metadata": {},
   "outputs": [],
   "source": [
    "mask = np.array([\n",
    "    [1./2, 1./2, 1./2],\n",
    "    [1./2, 1., 1./2],\n",
    "    [1./2, 1./2, 1./2]\n",
    "])"
   ]
  },
  {
   "cell_type": "code",
   "execution_count": 29,
   "metadata": {},
   "outputs": [
    {
     "ename": "ValueError",
     "evalue": "could not broadcast input array from shape (3,3) into shape (0,0)",
     "output_type": "error",
     "traceback": [
      "\u001b[1;31m---------------------------------------------------------------------------\u001b[0m",
      "\u001b[1;31mValueError\u001b[0m                                Traceback (most recent call last)",
      "\u001b[1;32m<ipython-input-29-fec8924077d2>\u001b[0m in \u001b[0;36m<module>\u001b[1;34m\u001b[0m\n\u001b[1;32m----> 1\u001b[1;33m \u001b[0mimg\u001b[0m\u001b[1;33m[\u001b[0m\u001b[1;33m-\u001b[0m\u001b[1;36m1\u001b[0m\u001b[1;33m:\u001b[0m\u001b[1;36m2\u001b[0m\u001b[1;33m,\u001b[0m\u001b[1;33m-\u001b[0m\u001b[1;36m1\u001b[0m\u001b[1;33m:\u001b[0m\u001b[1;36m2\u001b[0m\u001b[1;33m]\u001b[0m \u001b[1;33m=\u001b[0m \u001b[0mimg\u001b[0m\u001b[1;33m[\u001b[0m\u001b[1;36m0\u001b[0m\u001b[1;33m:\u001b[0m\u001b[1;36m3\u001b[0m\u001b[1;33m,\u001b[0m\u001b[1;36m0\u001b[0m\u001b[1;33m:\u001b[0m\u001b[1;36m3\u001b[0m\u001b[1;33m]\u001b[0m \u001b[1;33m+\u001b[0m \u001b[0mmask\u001b[0m\u001b[1;33m\u001b[0m\u001b[1;33m\u001b[0m\u001b[0m\n\u001b[0m",
      "\u001b[1;31mValueError\u001b[0m: could not broadcast input array from shape (3,3) into shape (0,0)"
     ]
    }
   ],
   "source": [
    "img[0:3,0:3] = img[0:3,0:3] + mask"
   ]
  },
  {
   "cell_type": "code",
   "execution_count": 34,
   "metadata": {},
   "outputs": [
    {
     "data": {
      "text/plain": [
       "array([[False, False, False, ..., False, False, False],\n",
       "       [False, False, False, ..., False, False, False],\n",
       "       [False, False, False, ..., False, False, False],\n",
       "       ...,\n",
       "       [False, False, False, ..., False, False, False],\n",
       "       [False, False, False, ..., False, False, False],\n",
       "       [False, False, False, ..., False, False, False]])"
      ]
     },
     "execution_count": 34,
     "metadata": {},
     "output_type": "execute_result"
    }
   ],
   "source": [
    "img > 0.0"
   ]
  },
  {
   "cell_type": "code",
   "execution_count": 113,
   "metadata": {},
   "outputs": [
    {
     "data": {
      "text/plain": [
       "array([[ 0.       ,  0.       ,  0.       ,  0.       ,  0.       ,\n",
       "         0.       ,  0.       ,  0.       ,  0.       ,  0.       ],\n",
       "       [ 0.       ,  0.5625   ,  0.       ,  0.       ,  0.       ,\n",
       "         0.       ,  0.       ,  0.       ,  0.       ,  0.       ],\n",
       "       [ 0.       ,  0.       ,  4.21875  ,  0.       ,  0.       ,\n",
       "         0.       ,  0.       ,  0.       ,  0.       ,  0.       ],\n",
       "       [ 0.       ,  0.       ,  0.       , 12.234375 ,  0.       ,\n",
       "         0.       ,  0.       ,  0.       ,  0.       ,  0.       ],\n",
       "       [ 0.       ,  0.       ,  0.       ,  0.       , 17.2265625,\n",
       "         0.       ,  0.       ,  0.       ,  0.       ,  0.       ],\n",
       "       [ 0.       ,  0.       ,  0.       ,  0.       ,  0.       ,\n",
       "        12.234375 ,  0.       ,  0.       ,  0.       ,  0.       ],\n",
       "       [ 0.       ,  0.       ,  0.       ,  0.       ,  0.       ,\n",
       "         0.       ,  4.21875  ,  0.       ,  0.       ,  0.       ],\n",
       "       [ 0.       ,  0.       ,  0.       ,  0.       ,  0.       ,\n",
       "         0.       ,  0.       ,  0.5625   ,  0.       ,  0.       ],\n",
       "       [ 0.       ,  0.       ,  0.       ,  0.       ,  0.       ,\n",
       "         0.       ,  0.       ,  0.       ,  0.       ,  0.       ],\n",
       "       [ 0.       ,  0.       ,  0.       ,  0.       ,  0.       ,\n",
       "         0.       ,  0.       ,  0.       ,  0.       ,  0.       ]])"
      ]
     },
     "execution_count": 113,
     "metadata": {},
     "output_type": "execute_result"
    }
   ],
   "source": [
    "mat = np.zeros((10,10))\n",
    "mat[4,4] = 1.\n",
    "#mat[5,4] = 1.\n",
    "mat_copy = mat.copy()\n",
    "\n",
    "sl = lambda x, n: slice(x, n) if x >= 0 else slice(0, x)\n",
    "\n",
    "for i in range(mask.shape[0]):\n",
    "    for j in range(mask.shape[1]):\n",
    "        offset_i = i - mask.shape[0] // 2\n",
    "        offset_j = j - mask.shape[1] // 2\n",
    "        mat[sl(offset_i, mat.shape[0]), sl(offset_i, mat.shape[1])] += mat[sl(-offset_i, mat.shape[0]), sl(-offset_i, mat.shape[1])] * mask[i, j]\n",
    "\n",
    "mat"
   ]
  },
  {
   "cell_type": "code",
   "execution_count": 111,
   "metadata": {},
   "outputs": [
    {
     "data": {
      "text/plain": [
       "array([[0.5, 0.5],\n",
       "       [0.5, 1. ],\n",
       "       [0.5, 0.5]])"
      ]
     },
     "execution_count": 111,
     "metadata": {},
     "output_type": "execute_result"
    }
   ],
   "source": [
    "sl = lambda x, n: slice(x, n) if x >= 0 else slice(0, x)\n",
    "mask[sl(0, 3), sl(-1, 3)]"
   ]
  },
  {
   "cell_type": "code",
   "execution_count": 84,
   "metadata": {},
   "outputs": [
    {
     "data": {
      "text/plain": [
       "array([3., 4., 3.])"
      ]
     },
     "execution_count": 84,
     "metadata": {},
     "output_type": "execute_result"
    }
   ],
   "source": [
    "mask.dot(np.array([2, 2, 2.]))"
   ]
  },
  {
   "cell_type": "code",
   "execution_count": 92,
   "metadata": {},
   "outputs": [],
   "source": [
    "N = 35\n",
    "\n",
    "\n",
    "def process_image(src_img):\n",
    "    # монохромное изображение\n",
    "    im_bw = cv2.cvtColor(src_img, cv2.COLOR_BGR2GRAY)\n",
    "    if (im_bw == 0).all():\n",
    "        # исключительный случай\n",
    "        im_bw = np.zeros((src_img.shape[0], src_img.shape[1]), np.uint8)\n",
    "        im_bw[:, :] = (src_img.max(axis=2) > 0) * 255\n",
    "    else:\n",
    "        _, im_bw = cv2.threshold(im_bw, im_bw.mean(), 255, cv2.THRESH_BINARY)\n",
    "        if im_bw[-1, -1] == 255:\n",
    "            im_bw = cv2.bitwise_not(im_bw)\n",
    "\n",
    "    # вырезаем символ\n",
    "    def crop_image(img, threshold):\n",
    "        crop_left = 0\n",
    "        crop_right = 0\n",
    "        crop_up = 0\n",
    "        crop_down = 0\n",
    "        for i in range(img.shape[1]):\n",
    "            if img[:, i].sum() > threshold:\n",
    "                crop_left = i\n",
    "                break\n",
    "        for i in reversed(range(img.shape[1])):\n",
    "            if img[:, i].sum() > threshold:\n",
    "                crop_right = i + 1\n",
    "                break\n",
    "        for i in range(img.shape[0]):\n",
    "            if img[i, :].sum() > threshold:\n",
    "                crop_up = i\n",
    "                break\n",
    "        for i in reversed(range(img.shape[0])):\n",
    "            if img[i, :].sum() > threshold:\n",
    "                crop_down = i + 1\n",
    "                break\n",
    "        return img[crop_up:crop_down, crop_left:crop_right]\n",
    "    cropped_img = crop_image(im_bw, 1000)\n",
    "\n",
    "    # ресайзим до NxN\n",
    "    new_size = (N * cropped_img.shape[1] // max(cropped_img.shape),\n",
    "                N * cropped_img.shape[0] // max(cropped_img.shape))\n",
    "    resized_img = cv2.resize(cropped_img, new_size, cv2.INTER_NEAREST)\n",
    "    resized_img = (resized_img > 200) * 255\n",
    "\n",
    "    # создаем пустое изображение размера NxN и вставляем символ по центру\n",
    "    result_img = np.zeros((N, N), np.uint8)\n",
    "    offset_x = (N - resized_img.shape[1]) // 2\n",
    "    offset_y = (N - resized_img.shape[0]) // 2\n",
    "    result_img[offset_y:offset_y + resized_img.shape[0], offset_x:offset_x + resized_img.shape[1]] = resized_img\n",
    "    return result_img"
   ]
  },
  {
   "cell_type": "code",
   "execution_count": 93,
   "metadata": {},
   "outputs": [
    {
     "data": {
      "text/plain": [
       "<matplotlib.image.AxesImage at 0x20ee282c3a0>"
      ]
     },
     "execution_count": 93,
     "metadata": {},
     "output_type": "execute_result"
    },
    {
     "data": {
      "image/png": "[encoded data removed]",
      "text/plain": [
       "<Figure size 432x288 with 1 Axes>"
      ]
     },
     "metadata": {
      "needs_background": "light"
     },
     "output_type": "display_data"
    }
   ],
   "source": [
    "plt.imshow(process_image(cv2.imread('predict\\\\5.jpg', cv2.IMREAD_UNCHANGED)), cmap='gray')"
   ]
  }
 ],
 "metadata": {
  "kernelspec": {
   "display_name": "Python 3",
   "language": "python",
   "name": "python3"
  },
  "language_info": {
   "codemirror_mode": {
    "name": "ipython",
    "version": 3
   },
   "file_extension": ".py",
   "mimetype": "text/x-python",
   "name": "python",
   "nbconvert_exporter": "python",
   "pygments_lexer": "ipython3",
   "version": "3.8.0"
  }
 },
 "nbformat": 4,
 "nbformat_minor": 4
}
