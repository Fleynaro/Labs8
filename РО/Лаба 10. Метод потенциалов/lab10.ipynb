{
 "cells": [
  {
   "cell_type": "code",
   "execution_count": 124,
   "metadata": {},
   "outputs": [],
   "source": [
    "import os\n",
    "import cv2\n",
    "import re\n",
    "import numpy as np\n",
    "import matplotlib.pyplot as plt\n",
    "from glob import glob\n",
    "%matplotlib inline"
   ]
  },
  {
   "cell_type": "code",
   "execution_count": 439,
   "metadata": {},
   "outputs": [
    {
     "ename": "AttributeError",
     "evalue": "'NoneType' object has no attribute 'astype'",
     "output_type": "error",
     "traceback": [
      "\u001b[1;31m---------------------------------------------------------------------------\u001b[0m",
      "\u001b[1;31mAttributeError\u001b[0m                            Traceback (most recent call last)",
      "\u001b[1;32m<ipython-input-439-b06c09496601>\u001b[0m in \u001b[0;36m<module>\u001b[1;34m\u001b[0m\n\u001b[1;32m----> 1\u001b[1;33m \u001b[0mimg\u001b[0m \u001b[1;33m=\u001b[0m \u001b[0mcv2\u001b[0m\u001b[1;33m.\u001b[0m\u001b[0mimread\u001b[0m\u001b[1;33m(\u001b[0m\u001b[1;34m'processed\\\\1\\\\0017.png'\u001b[0m\u001b[1;33m,\u001b[0m \u001b[0mcv2\u001b[0m\u001b[1;33m.\u001b[0m\u001b[0mIMREAD_UNCHANGED\u001b[0m\u001b[1;33m)\u001b[0m\u001b[1;33m.\u001b[0m\u001b[0mastype\u001b[0m\u001b[1;33m(\u001b[0m\u001b[0mfloat\u001b[0m\u001b[1;33m)\u001b[0m \u001b[1;33m/\u001b[0m \u001b[1;36m255.0\u001b[0m\u001b[1;33m\u001b[0m\u001b[1;33m\u001b[0m\u001b[0m\n\u001b[0m",
      "\u001b[1;31mAttributeError\u001b[0m: 'NoneType' object has no attribute 'astype'"
     ]
    }
   ],
   "source": [
    "img = cv2.imread('processed\\\\1\\\\0017.png', cv2.IMREAD_UNCHANGED).astype(float) / 255.0"
   ]
  },
  {
   "cell_type": "code",
   "execution_count": 23,
   "metadata": {},
   "outputs": [],
   "source": [
    "mask = np.array([\n",
    "    [1./2, 1./2, 1./2],\n",
    "    [1./2, 1., 1./2],\n",
    "    [1./2, 1./2, 1./2]\n",
    "])"
   ]
  },
  {
   "cell_type": "code",
   "execution_count": 120,
   "metadata": {},
   "outputs": [],
   "source": [
    "mask = np.array([\n",
    "    [0.1, 0.3, 0.5, 0.3, 0.1],\n",
    "    [0.3, 0.5, 0.8, 0.5, 0.3],\n",
    "    [0.5, 0.8, 1.0, 0.8, 0.5],\n",
    "    [0.3, 0.5, 0.8, 0.5, 0.3],\n",
    "    [0.1, 0.3, 0.5, 0.3, 0.1],\n",
    "])"
   ]
  },
  {
   "cell_type": "code",
   "execution_count": 121,
   "metadata": {},
   "outputs": [
    {
     "data": {
      "text/plain": [
       "array([[0. , 0. , 0. , 0. , 0. ],\n",
       "       [0. , 0. , 0. , 0. , 0. ],\n",
       "       [0. , 0. , 0.1, 0.3, 0.5],\n",
       "       [0. , 0. , 0.3, 0.5, 0.8],\n",
       "       [0. , 0. , 0.5, 0.8, 1. ]])"
      ]
     },
     "execution_count": 121,
     "metadata": {},
     "output_type": "execute_result"
    }
   ],
   "source": [
    "mat = np.zeros((5,5))\n",
    "mat[4,4] = 1.\n",
    "#mat[5,4] = 1.\n",
    "mat_copy = mat.copy()\n",
    "\n",
    "sl = lambda x, n: slice(x, n) if x >= 0 else slice(0, x)\n",
    "\n",
    "for i in range(mask.shape[0]):\n",
    "    for j in range(mask.shape[1]):\n",
    "        offset_i = i - mask.shape[0] // 2\n",
    "        offset_j = j - mask.shape[1] // 2\n",
    "        if (offset_i, offset_j) == (0, 0):\n",
    "            continue\n",
    "        mat[sl(offset_i, mat.shape[0]), sl(offset_j, mat.shape[1])] += mat_copy[sl(-offset_i, mat.shape[0]), sl(-offset_j, mat.shape[1])] * mask[i, j]\n",
    "\n",
    "mat"
   ]
  },
  {
   "cell_type": "code",
   "execution_count": 111,
   "metadata": {},
   "outputs": [
    {
     "data": {
      "text/plain": [
       "array([[0.5, 0.5],\n",
       "       [0.5, 1. ],\n",
       "       [0.5, 0.5]])"
      ]
     },
     "execution_count": 111,
     "metadata": {},
     "output_type": "execute_result"
    }
   ],
   "source": [
    "sl = lambda x, n: slice(x, n) if x >= 0 else slice(0, x)\n",
    "mask[sl(0, 3), sl(-1, 3)]"
   ]
  },
  {
   "cell_type": "code",
   "execution_count": 84,
   "metadata": {},
   "outputs": [
    {
     "data": {
      "text/plain": [
       "array([3., 4., 3.])"
      ]
     },
     "execution_count": 84,
     "metadata": {},
     "output_type": "execute_result"
    }
   ],
   "source": [
    "mask.dot(np.array([2, 2, 2.]))"
   ]
  },
  {
   "cell_type": "code",
   "execution_count": 504,
   "metadata": {},
   "outputs": [],
   "source": [
    "N = 50\n",
    "\n",
    "\n",
    "def process_image(src_img):\n",
    "    # монохромное изображение\n",
    "    im_bw = cv2.cvtColor(src_img, cv2.COLOR_BGR2GRAY)\n",
    "    if (im_bw == 0).all():\n",
    "        # исключительный случай\n",
    "        im_bw = np.zeros((src_img.shape[0], src_img.shape[1]), np.uint8)\n",
    "        im_bw[:, :] = (src_img.max(axis=2) > 0) * 255\n",
    "    else:\n",
    "        _, im_bw = cv2.threshold(im_bw, im_bw.mean(), 255, cv2.THRESH_BINARY)\n",
    "        if im_bw[-1, -1] == 255:\n",
    "            im_bw = cv2.bitwise_not(im_bw)\n",
    "\n",
    "    # вырезаем символ\n",
    "    def crop_image(img, threshold):\n",
    "        crop_left = 0\n",
    "        crop_right = 0\n",
    "        crop_up = 0\n",
    "        crop_down = 0\n",
    "        for i in range(img.shape[1]):\n",
    "            if img[:, i].sum() > threshold:\n",
    "                crop_left = i\n",
    "                break\n",
    "        for i in reversed(range(img.shape[1])):\n",
    "            if img[:, i].sum() > threshold:\n",
    "                crop_right = i + 1\n",
    "                break\n",
    "        for i in range(img.shape[0]):\n",
    "            if img[i, :].sum() > threshold:\n",
    "                crop_up = i - 3\n",
    "                break\n",
    "        for i in reversed(range(img.shape[0])):\n",
    "            if img[i, :].sum() > threshold:\n",
    "                crop_down = i + 3\n",
    "                break\n",
    "        return img[crop_up:crop_down, crop_left:crop_right]\n",
    "    cropped_img = crop_image(im_bw, 1000)\n",
    "\n",
    "    # ресайзим до NxN\n",
    "    new_size = (N * cropped_img.shape[1] // max(cropped_img.shape),\n",
    "                N * cropped_img.shape[0] // max(cropped_img.shape))\n",
    "    resized_img = cv2.resize(cropped_img, new_size, cv2.INTER_NEAREST)\n",
    "    resized_img = (resized_img > 200) * 255\n",
    "\n",
    "    # создаем пустое изображение размера NxN и вставляем символ по центру\n",
    "    result_img = np.zeros((N, N), np.uint8)\n",
    "    offset_x = (N - resized_img.shape[1]) // 2\n",
    "    offset_y = (N - resized_img.shape[0]) // 2\n",
    "    result_img[offset_y:offset_y + resized_img.shape[0], offset_x:offset_x + resized_img.shape[1]] = resized_img\n",
    "    return result_img"
   ]
  },
  {
   "cell_type": "code",
   "execution_count": 513,
   "metadata": {},
   "outputs": [
    {
     "data": {
      "text/plain": [
       "<matplotlib.image.AxesImage at 0x20ee9778220>"
      ]
     },
     "execution_count": 513,
     "metadata": {},
     "output_type": "execute_result"
    },
    {
     "data": {
      "image/png": "[encoded data removed]",
      "text/plain": [
       "<Figure size 432x288 with 1 Axes>"
      ]
     },
     "metadata": {
      "needs_background": "light"
     },
     "output_type": "display_data"
    }
   ],
   "source": [
    "img = process_image(cv2.imread('predict\\\\2.jpg', cv2.IMREAD_UNCHANGED))\n",
    "img = cv2.Canny(img, 100, 200)\n",
    "plt.imshow(img, cmap='gray')"
   ]
  },
  {
   "cell_type": "code",
   "execution_count": 471,
   "metadata": {},
   "outputs": [],
   "source": []
  },
  {
   "cell_type": "code",
   "execution_count": 304,
   "metadata": {},
   "outputs": [],
   "source": [
    "def create_mask(m):\n",
    "    mask = np.zeros((2*m + 1, 2*m + 1))\n",
    "    center = np.array([m, m])\n",
    "    mask[m, m] = 1.0\n",
    "    for i in range(mask.shape[0]):\n",
    "        for j in range(mask.shape[1]):\n",
    "            dist = np.linalg.norm(np.array([i, j]) - center) + 1.0\n",
    "            mask[i, j] = 1 / (dist * dist)\n",
    "    return mask"
   ]
  },
  {
   "cell_type": "code",
   "execution_count": 305,
   "metadata": {},
   "outputs": [],
   "source": [
    "mask = create_mask(7)\n",
    "def image_to_vector(img):\n",
    "    sl = lambda x, n: slice(x, n) if x >= 0 else slice(0, x)\n",
    "\n",
    "    result = np.zeros(img.shape)\n",
    "    for i in range(mask.shape[0]):\n",
    "        for j in range(mask.shape[1]):\n",
    "            offset_i = i - mask.shape[0] // 2\n",
    "            offset_j = j - mask.shape[1] // 2\n",
    "            result[sl(offset_i, img.shape[0]), sl(offset_j, img.shape[1])] +=\\\n",
    "                img[sl(-offset_i, img.shape[0]), sl(-offset_j, img.shape[1])] * mask[i, j]\n",
    "    return result.reshape(-1)\n",
    "\n",
    "\n",
    "def load_symbol_map(dir_path):\n",
    "    symbol_files = {}\n",
    "    for symbol_dir in glob(f\"{dir_path}*\\\\\"):\n",
    "        symbol = symbol_dir.split('\\\\')[-2]\n",
    "        for img_file in glob(f\"{symbol_dir}*\"):\n",
    "            if symbol not in symbol_files:\n",
    "                symbol_files[symbol] = []\n",
    "            symbol_files[symbol].append(img_file)\n",
    "\n",
    "    symbol_map = {}\n",
    "    for symbol, filenames in symbol_files.items():\n",
    "        vectors = []\n",
    "        for filename in filenames:\n",
    "            img = cv2.imread(filename, cv2.IMREAD_UNCHANGED).astype(float) / 255.0\n",
    "            vectors.append(image_to_vector(img))\n",
    "        symbol_map[symbol] = vectors\n",
    "    return symbol_map\n",
    "\n",
    "symbol_map = load_symbol_map(f'processed_50\\\\')"
   ]
  },
  {
   "cell_type": "code",
   "execution_count": 281,
   "metadata": {},
   "outputs": [],
   "source": [
    "def predict(symbol_map, img_vector, alpha=0.001):\n",
    "    scores = []\n",
    "    for symbol, symbol_vectors in symbol_map.items():\n",
    "        squared_dist_vec = np.array(list(map(lambda x: np.linalg.norm(x - img_vector), symbol_vectors)))\n",
    "        phi_avg = (1. / (1 + alpha * np.power(squared_dist_vec, 2.0))).mean()\n",
    "        scores.append((symbol, phi_avg))\n",
    "    return max(scores, key=lambda x: x[1])[0]"
   ]
  },
  {
   "cell_type": "code",
   "execution_count": 275,
   "metadata": {},
   "outputs": [
    {
     "name": "stdout",
     "output_type": "stream",
     "text": [
      "139.5132605734314\n",
      "100.90710499681099\n",
      "109.60588080605628\n"
     ]
    }
   ],
   "source": [
    "print(np.linalg.norm(symbol_map['0'][0] - symbol_map['0'][20]))\n",
    "print(np.linalg.norm(symbol_map['0'][0] - symbol_map['0'][1]))\n",
    "print(np.linalg.norm(symbol_map['0'][0] - symbol_map['5'][0]))"
   ]
  },
  {
   "cell_type": "code",
   "execution_count": 192,
   "metadata": {},
   "outputs": [
    {
     "data": {
      "text/plain": [
       "61.49514434309247"
      ]
     },
     "execution_count": 192,
     "metadata": {},
     "output_type": "execute_result"
    }
   ],
   "source": [
    "np.linalg.norm(symbol_map['0'][0] - symbol_map['5'][0])"
   ]
  },
  {
   "cell_type": "code",
   "execution_count": 185,
   "metadata": {},
   "outputs": [
    {
     "data": {
      "text/plain": [
       "array([[0.        , 0.33333333, 0.33333333, 0.33333333, 0.        ],\n",
       "       [0.        , 0.5       , 0.5       , 0.5       , 0.        ],\n",
       "       [0.        , 0.5       , 1.        , 0.5       , 0.        ],\n",
       "       [0.        , 0.5       , 0.5       , 0.5       , 0.        ],\n",
       "       [0.        , 0.33333333, 0.33333333, 0.33333333, 0.        ]])"
      ]
     },
     "execution_count": 185,
     "metadata": {},
     "output_type": "execute_result"
    }
   ],
   "source": [
    "mat = np.zeros((5,5))\n",
    "mat[2,2] = 1.\n",
    "#mat[4,4] = 1.\n",
    "image_to_vector(mat).reshape(5,-1)"
   ]
  },
  {
   "cell_type": "code",
   "execution_count": 306,
   "metadata": {},
   "outputs": [
    {
     "data": {
      "text/plain": [
       "[('0', '0'),\n",
       " ('1', 'J'),\n",
       " ('1_2', '1'),\n",
       " ('2', 'I'),\n",
       " ('5', 'F'),\n",
       " ('A', 'A'),\n",
       " ('C', 'F'),\n",
       " ('R', 'F'),\n",
       " ('N', '4'),\n",
       " ('N_2', 'H'),\n",
       " ('U', 'U'),\n",
       " ('S', 'I'),\n",
       " ('D', 'L'),\n",
       " ('D_2', 'D')]"
      ]
     },
     "execution_count": 306,
     "metadata": {},
     "output_type": "execute_result"
    }
   ],
   "source": [
    "test = ['0', '1', '1_2', '2', '5', 'A', 'C', 'R', 'N', 'N_2', 'U', 'S', 'D', 'D_2']\n",
    "preds = []\n",
    "for symbol in test:\n",
    "    pred_symbol = predict(symbol_map, image_to_vector(\n",
    "        process_image(cv2.imread(f'predict\\\\{symbol}.jpg', cv2.IMREAD_UNCHANGED)).astype(float) / 255.0))\n",
    "    preds.append((symbol, pred_symbol))\n",
    "preds"
   ]
  },
  {
   "cell_type": "code",
   "execution_count": 546,
   "metadata": {},
   "outputs": [],
   "source": [
    "def find_left_down_pixel(img):\n",
    "    crop_left = 0\n",
    "    crop_down = 0\n",
    "    for i in range(img.shape[1]):\n",
    "        if img[:, i].sum() > 0:\n",
    "            crop_left = i\n",
    "            break\n",
    "    for i in reversed(range(img.shape[0])):\n",
    "        if img[i, :crop_left + 1].sum() > 0:\n",
    "            crop_down = i\n",
    "            break\n",
    "    return crop_down, crop_left\n",
    "\n",
    "def sign(img):\n",
    "    DIRECTIONS = [(-1, 0), (-1, 1), (0, 1), (1, 1), (1, 0), (1, -1), (0, -1), (-1, -1)]\n",
    "    sign = '('\n",
    "    img_map = img > 0\n",
    "    cur_pos = find_left_down_pixel(img)\n",
    "    pos_lst = []\n",
    "    pos_lst_set = set()\n",
    "    while cur_pos:\n",
    "        img_map[cur_pos] = False\n",
    "        next_posistions = []\n",
    "        is_first = True\n",
    "        for dir_idx, direction in enumerate(DIRECTIONS):\n",
    "            next_pos = (cur_pos[0] + direction[0], cur_pos[1] + direction[1])\n",
    "            if not(0 <= next_pos[0] < img_map.shape[0] and 0 <= next_pos[1] < img_map.shape[1]):\n",
    "                continue\n",
    "            if not img_map[next_pos]:\n",
    "                continue\n",
    "            if not is_first and next_pos in pos_lst_set:\n",
    "                continue\n",
    "            #print(f'-- {next_pos}')\n",
    "            next_posistions.append((next_pos, dir_idx + 1))\n",
    "            pos_lst_set.add(next_pos)\n",
    "            is_first = False\n",
    "        if not next_posistions:\n",
    "            cur_pos = None\n",
    "            for next_pos, next_dir_idx in reversed(pos_lst):\n",
    "                if img_map[next_pos]:\n",
    "                    cur_pos = next_pos\n",
    "                    sign += ')(0' + str(next_dir_idx)\n",
    "                    break\n",
    "        else:\n",
    "            cur_pos, next_dir_idx = next_posistions.pop(0)\n",
    "            pos_lst.extend(next_posistions) \n",
    "            sign += str(next_dir_idx)\n",
    "        \n",
    "    return sign + ')'\n",
    "\n",
    "def normalize(sign):\n",
    "    sign = sign.replace('0', '').replace('(0)', '')\n",
    "    #sign = sign.replace('2', '1').replace('4', '3').replace('6', '5').replace('8', '7')\n",
    "    prev_sign = ''\n",
    "    while sign != prev_sign:\n",
    "        prev_sign = sign\n",
    "        for i in range(1, 10):\n",
    "            sign = re.sub(f'{i}\\d?{i}+', f'{i}', sign)\n",
    "    return sign"
   ]
  },
  {
   "cell_type": "code",
   "execution_count": 462,
   "metadata": {},
   "outputs": [
    {
     "data": {
      "text/plain": [
       "'1(3)(35)'"
      ]
     },
     "execution_count": 462,
     "metadata": {},
     "output_type": "execute_result"
    }
   ],
   "source": [
    "normalize('22322(3)(4555555555)')"
   ]
  },
  {
   "cell_type": "code",
   "execution_count": 417,
   "metadata": {},
   "outputs": [
    {
     "data": {
      "text/plain": [
       "'1'"
      ]
     },
     "execution_count": 417,
     "metadata": {},
     "output_type": "execute_result"
    }
   ],
   "source": [
    "re.sub('1\\d?1+', '1', '1211')"
   ]
  },
  {
   "cell_type": "code",
   "execution_count": 542,
   "metadata": {},
   "outputs": [
    {
     "name": "stdout",
     "output_type": "stream",
     "text": [
      "(6, 1)\n",
      "-- (5, 1)\n",
      "-- (7, 2)\n",
      "(5, 1)\n",
      "-- (4, 1)\n",
      "(4, 1)\n",
      "-- (3, 1)\n",
      "(3, 1)\n",
      "-- (2, 1)\n",
      "(2, 1)\n",
      "-- (1, 1)\n",
      "(1, 1)\n",
      "-- (0, 2)\n",
      "(0, 2)\n",
      "-- (0, 3)\n",
      "(0, 3)\n",
      "-- (1, 4)\n",
      "(1, 4)\n",
      "-- (2, 4)\n",
      "(2, 4)\n",
      "(7, 2)\n",
      "-- (7, 3)\n",
      "(7, 3)\n",
      "-- (6, 4)\n",
      "(6, 4)\n",
      "-- (5, 4)\n",
      "(5, 4)\n"
     ]
    },
    {
     "data": {
      "text/plain": [
       "'(12345)(4321)'"
      ]
     },
     "execution_count": 542,
     "metadata": {},
     "output_type": "execute_result"
    }
   ],
   "source": [
    "test_img = np.array([\n",
    "    [0, 0, 1, 1, 0],\n",
    "    [0, 1, 0, 0, 1],\n",
    "    [0, 1, 0, 0, 1],\n",
    "    [0, 1, 0, 0, 0],\n",
    "    [0, 1, 0, 0, 0],\n",
    "    [0, 1, 0, 0, 1],\n",
    "    [0, 1, 0, 0, 1],\n",
    "    [0, 0, 1, 1, 0],\n",
    "])\n",
    "normalize(sign(test_img))"
   ]
  },
  {
   "cell_type": "code",
   "execution_count": 543,
   "metadata": {},
   "outputs": [
    {
     "name": "stdout",
     "output_type": "stream",
     "text": [
      "(5, 1)\n",
      "-- (4, 1)\n",
      "-- (4, 2)\n",
      "(4, 1)\n",
      "-- (3, 1)\n",
      "-- (3, 2)\n",
      "(3, 1)\n",
      "-- (2, 2)\n",
      "(2, 2)\n",
      "-- (1, 2)\n",
      "(1, 2)\n",
      "(3, 2)\n",
      "-- (4, 2)\n",
      "(4, 2)\n"
     ]
    },
    {
     "data": {
      "text/plain": [
       "'(1121)(025)'"
      ]
     },
     "execution_count": 543,
     "metadata": {},
     "output_type": "execute_result"
    }
   ],
   "source": [
    "test_img = np.array([\n",
    "    [0, 0, 0, 0, 0],\n",
    "    [0, 0, 1, 0, 0],\n",
    "    [0, 0, 1, 0, 0],\n",
    "    [0, 1, 1, 0, 0],\n",
    "    [0, 1, 1, 0, 0],\n",
    "    [0, 1, 0, 0, 0],\n",
    "])\n",
    "sign(test_img)"
   ]
  },
  {
   "cell_type": "code",
   "execution_count": 544,
   "metadata": {},
   "outputs": [],
   "source": [
    "img = cv2.imread('processed_15\\\\2\\\\0002.png', cv2.IMREAD_UNCHANGED)\n",
    "img2 = cv2.imread('processed_15\\\\2\\\\0011.png', cv2.IMREAD_UNCHANGED)"
   ]
  },
  {
   "cell_type": "code",
   "execution_count": 547,
   "metadata": {},
   "outputs": [
    {
     "data": {
      "text/plain": [
       "('(12322121211114555561)(08558161616458)(0461)(0461643343357771617716161)',\n",
       " '(14561)(816458)(461)(43571)')"
      ]
     },
     "execution_count": 547,
     "metadata": {},
     "output_type": "execute_result"
    },
    {
     "data": {
      "image/png": "[encoded data removed]",
      "text/plain": [
       "<Figure size 432x288 with 1 Axes>"
      ]
     },
     "metadata": {
      "needs_background": "light"
     },
     "output_type": "display_data"
    }
   ],
   "source": [
    "plt.imshow(img, cmap='gray')\n",
    "sign(img), normalize(sign(img))"
   ]
  },
  {
   "cell_type": "code",
   "execution_count": 548,
   "metadata": {},
   "outputs": [
    {
     "data": {
      "text/plain": [
       "('(1333221211111114555555561)(085571161646161165)(045433345716177716111655716161)',\n",
       " '(13214561)(857165)(45716571)')"
      ]
     },
     "execution_count": 548,
     "metadata": {},
     "output_type": "execute_result"
    },
    {
     "data": {
      "image/png": "[encoded data removed]",
      "text/plain": [
       "<Figure size 432x288 with 1 Axes>"
      ]
     },
     "metadata": {
      "needs_background": "light"
     },
     "output_type": "display_data"
    }
   ],
   "source": [
    "plt.imshow(img2, cmap='gray')\n",
    "sign(img2), normalize(sign(img2))"
   ]
  },
  {
   "cell_type": "code",
   "execution_count": null,
   "metadata": {},
   "outputs": [],
   "source": []
  },
  {
   "cell_type": "code",
   "execution_count": 398,
   "metadata": {},
   "outputs": [
    {
     "data": {
      "text/plain": [
       "(43, 10)"
      ]
     },
     "execution_count": 398,
     "metadata": {},
     "output_type": "execute_result"
    }
   ],
   "source": [
    "img[find_left_down_pixel(img)"
   ]
  }
 ],
 "metadata": {
  "kernelspec": {
   "display_name": "Python 3",
   "language": "python",
   "name": "python3"
  },
  "language_info": {
   "codemirror_mode": {
    "name": "ipython",
    "version": 3
   },
   "file_extension": ".py",
   "mimetype": "text/x-python",
   "name": "python",
   "nbconvert_exporter": "python",
   "pygments_lexer": "ipython3",
   "version": "3.8.0"
  }
 },
 "nbformat": 4,
 "nbformat_minor": 4
}
