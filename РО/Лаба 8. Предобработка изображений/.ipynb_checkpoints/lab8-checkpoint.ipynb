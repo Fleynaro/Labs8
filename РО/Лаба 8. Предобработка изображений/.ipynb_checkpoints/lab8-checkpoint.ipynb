{
 "cells": [
  {
   "cell_type": "code",
   "execution_count": 135,
   "metadata": {},
   "outputs": [],
   "source": [
    "import os\n",
    "import cv2\n",
    "import numpy as np\n",
    "import matplotlib.pyplot as plt\n",
    "%matplotlib inline\n",
    "\n",
    "N = 50\n",
    "\n",
    "#train/14a9a6b8-47ed-4698-96b7-9fdb5c701619/0/1.png\n",
    "#train/84029aea-b710-4455-b14a-e099050bf556/5/Golden Wind1.png\n",
    "#train/45e13cda-3651-4208-8cf1-6b49a0c5e859/7/lol.jpg\n",
    "#train/30334761-6436-40a3-8114-4a6ed9cd754e/0/1.jpg"
   ]
  },
  {
   "cell_type": "code",
   "execution_count": 433,
   "metadata": {},
   "outputs": [
    {
     "name": "stdout",
     "output_type": "stream",
     "text": [
      "1\n"
     ]
    },
    {
     "data": {
      "text/plain": [
       "<matplotlib.image.AxesImage at 0x26a63393670>"
      ]
     },
     "execution_count": 433,
     "metadata": {},
     "output_type": "execute_result"
    },
    {
     "data": {
      "image/png": "[encoded data removed]",
      "text/plain": [
       "<Figure size 432x288 with 1 Axes>"
      ]
     },
     "metadata": {
      "needs_background": "light"
     },
     "output_type": "display_data"
    }
   ],
   "source": [
    "src_img = cv2.imread('train/84029aea-b710-4455-b14a-e099050bf556/5/Golden Wind1.png', cv2.IMREAD_UNCHANGED)\n",
    "#src_img = cv2.Canny(src_img, 100, 200)\n",
    "#src_img = cv2.Laplacian(src_img, cv2.CV_64F)\n",
    "#src_img = (src_img - src_img.min()) / (src_img.max() - src_img.min())\n",
    "#src_img[:,:] = src_img[:,:,3]\n",
    "im_bw = cv2.cvtColor(src_img, cv2.COLOR_BGR2GRAY)\n",
    "if (im_bw == 0).all():\n",
    "    im_bw = np.zeros((src_img.shape[0], src_img.shape[1]), np.uint8)\n",
    "    im_bw[:, :] = (src_img.max(axis=2) > 0) * 255\n",
    "    print('1')\n",
    "else:\n",
    "    _, im_bw = cv2.threshold(im_bw, im_bw.mean(), 255, cv2.THRESH_BINARY)\n",
    "    if im_bw[0, 0] == 255:\n",
    "        im_bw = cv2.bitwise_not(im_bw)\n",
    "    print('2')\n",
    "plt.imshow(im_bw, cmap='gray')"
   ]
  },
  {
   "cell_type": "code",
   "execution_count": 423,
   "metadata": {},
   "outputs": [
    {
     "data": {
      "text/plain": [
       "array([255, 255, 255, 255, 255, 255, 255, 255, 252, 254, 255, 254, 255,\n",
       "       255, 254, 249, 224, 212, 201, 198, 199, 199, 199, 201, 199, 200,\n",
       "       202, 202, 201, 201, 201, 202, 203, 200, 197, 199, 206, 219, 231,\n",
       "       239, 250, 251, 252, 253, 254, 255, 255, 255, 255, 255, 255, 255,\n",
       "       255, 255, 255, 255, 255, 255, 255, 255, 255, 255, 255, 255, 255,\n",
       "       255, 255, 255, 255, 255, 255, 255, 244, 244, 241, 235, 225, 213,\n",
       "       203, 196, 202, 199, 199, 201, 201, 198, 198, 201, 198, 200, 200,\n",
       "       198, 200, 203, 202, 198, 201, 200, 204, 226, 251, 255, 251, 255,\n",
       "       255, 255, 255, 255, 255, 255, 255, 255, 255, 255, 255, 255, 255,\n",
       "       255, 255, 255, 255, 255, 255, 255, 255, 255, 255, 255], dtype=uint8)"
      ]
     },
     "execution_count": 423,
     "metadata": {},
     "output_type": "execute_result"
    }
   ],
   "source": [
    "im_bw[:, 40]"
   ]
  },
  {
   "cell_type": "code",
   "execution_count": 366,
   "metadata": {},
   "outputs": [
    {
     "data": {
      "text/plain": [
       "array([[  0,   0,   0,   0],\n",
       "       [  0,   0,   0,   0],\n",
       "       [  0,   0,   0,   0],\n",
       "       [  0,   0,   0,   0],\n",
       "       [  0,   0,   0,   0],\n",
       "       [  0,   0,   0,   0],\n",
       "       [  0,   0,   0,   0],\n",
       "       [  0,   0,   0,   0],\n",
       "       [  0,   0,   0,   0],\n",
       "       [  0,   0,   0,   0],\n",
       "       [  0,   0,   0,   0],\n",
       "       [  0,   0,   0,   0],\n",
       "       [  0,   0,   0,   0],\n",
       "       [  0,   0,   0,   0],\n",
       "       [  0,   0,   0,   0],\n",
       "       [  0,   0,   0,   0],\n",
       "       [  0,   0,   0,   0],\n",
       "       [  0,   0,   0,   0],\n",
       "       [  0,   0,   0,   0],\n",
       "       [  0,   0,   0,   0],\n",
       "       [  0,   0,   0,   0],\n",
       "       [  0,   0,   0,   0],\n",
       "       [  0,   0,   0,   0],\n",
       "       [  0,   0,   0,   0],\n",
       "       [  0,   0,   0,   0],\n",
       "       [  0,   0,   0,   0],\n",
       "       [  0,   0,   0,   0],\n",
       "       [  0,   0,   0,   0],\n",
       "       [  0,   0,   0,   0],\n",
       "       [  0,   0,   0,   0],\n",
       "       [  0,   0,   0,   0],\n",
       "       [  0,   0,   0,   0],\n",
       "       [  0,   0,   0,   0],\n",
       "       [  0,   0,   0,   0],\n",
       "       [  0,   0,   0,   0],\n",
       "       [  0,   0,   0,   0],\n",
       "       [  0,   0,   0,   0],\n",
       "       [  0,   0,   0,   0],\n",
       "       [  0,   0,   0,   0],\n",
       "       [  0,   0,   0,   0],\n",
       "       [  0,   0,   0,   0],\n",
       "       [  0,   0,   0,   0],\n",
       "       [  0,   0,   0,   0],\n",
       "       [  0,   0,   0,   0],\n",
       "       [  0,   0,   0,   0],\n",
       "       [  0,   0,   0,   0],\n",
       "       [  0,   0,   0,   0],\n",
       "       [  0,   0,   0,   0],\n",
       "       [  0,   0,   0,   0],\n",
       "       [  0,   0,   0,   0],\n",
       "       [  0,   0,   0,   0],\n",
       "       [  0,   0,   0,   0],\n",
       "       [  0,   0,   0,   0],\n",
       "       [  0,   0,   0,   0],\n",
       "       [  0,   0,   0,   0],\n",
       "       [  0,   0,   0,   0],\n",
       "       [  0,   0,   0,   0],\n",
       "       [  0,   0,   0,   0],\n",
       "       [  0,   0,   0,   0],\n",
       "       [  0,   0,   0,   0],\n",
       "       [  0,   0,   0,   0],\n",
       "       [  0,   0,   0,   0],\n",
       "       [  0,   0,   0,   0],\n",
       "       [  0,   0,   0,   0],\n",
       "       [  0,   0,   0,   0],\n",
       "       [  0,   0,   0,   0],\n",
       "       [  0,   0,   0,   0],\n",
       "       [  0,   0,   0,   0],\n",
       "       [  0,   0,   0,   0],\n",
       "       [  0,   0,   0,   0],\n",
       "       [  0,   0,   0,   0],\n",
       "       [  0,   0,   0,   0],\n",
       "       [  0,   0,   0,   0],\n",
       "       [  0,   0,   0,   0],\n",
       "       [  0,   0,   0,   0],\n",
       "       [  0,   0,   0,   0],\n",
       "       [  0,   0,   0,   0],\n",
       "       [  0,   0,   0,   0],\n",
       "       [  0,   0,   0,   0],\n",
       "       [  0,   0,   0,   0],\n",
       "       [  0,   0,   0,   0],\n",
       "       [  0,   0,   0,   0],\n",
       "       [  0,   0,   0,   0],\n",
       "       [  0,   0,   0,   0],\n",
       "       [  0,   0,   0, 114],\n",
       "       [  0,   0,   0, 237],\n",
       "       [  0,   0,   0, 255],\n",
       "       [  0,   0,   0, 255],\n",
       "       [  0,   0,   0, 253],\n",
       "       [  0,   0,   0, 234],\n",
       "       [  0,   0,   0, 150],\n",
       "       [  0,   0,   0,  98],\n",
       "       [  0,   0,   0,  46],\n",
       "       [  0,   0,   0,   9],\n",
       "       [  0,   0,   0,   4],\n",
       "       [  0,   0,   0,  70],\n",
       "       [  0,   0,   0, 231],\n",
       "       [  0,   0,   0, 255],\n",
       "       [  0,   0,   0, 255],\n",
       "       [  0,   0,   0, 254],\n",
       "       [  0,   0,   0, 185],\n",
       "       [  0,   0,   0,  60],\n",
       "       [  0,   0,   0,   8],\n",
       "       [  0,   0,   0,   0],\n",
       "       [  0,   0,   0,   0],\n",
       "       [  0,   0,   0,   0],\n",
       "       [  0,   0,   0,   0],\n",
       "       [  0,   0,   0,   0],\n",
       "       [  0,   0,   0,   0],\n",
       "       [  0,   0,   0,   0],\n",
       "       [  0,   0,   0,   0],\n",
       "       [  0,   0,   0,   0],\n",
       "       [  0,   0,   0,  13],\n",
       "       [  0,   0,   0, 146],\n",
       "       [  0,   0,   0, 208],\n",
       "       [  0,   0,   0, 255],\n",
       "       [  0,   0,   0, 255],\n",
       "       [  0,   0,   0, 255],\n",
       "       [  0,   0,   0, 255],\n",
       "       [  0,   0,   0, 254],\n",
       "       [  0,   0,   0, 192],\n",
       "       [  0,   0,   0,  20],\n",
       "       [  0,   0,   0,   3],\n",
       "       [  0,   0,   0,   0],\n",
       "       [  0,   0,   0,   0],\n",
       "       [  0,   0,   0,   0],\n",
       "       [  0,   0,   0,   0],\n",
       "       [  0,   0,   0,   0]], dtype=uint8)"
      ]
     },
     "execution_count": 366,
     "metadata": {},
     "output_type": "execute_result"
    }
   ],
   "source": [
    "src_img[:,20]"
   ]
  },
  {
   "cell_type": "code",
   "execution_count": 284,
   "metadata": {},
   "outputs": [
    {
     "data": {
      "text/plain": [
       "True"
      ]
     },
     "execution_count": 284,
     "metadata": {},
     "output_type": "execute_result"
    }
   ],
   "source": [
    "src_img[0, 0].all() == src_img[-1, -1].all()"
   ]
  },
  {
   "cell_type": "code",
   "execution_count": 326,
   "metadata": {},
   "outputs": [
    {
     "data": {
      "text/plain": [
       "array([[  0,   0,   0,   0],\n",
       "       [  0,   0,   0,   0],\n",
       "       [  0,   0,   0,   0],\n",
       "       [  0,   0,   0,   0],\n",
       "       [  0,   0,   0,   0],\n",
       "       [  0,   0,   0,   0],\n",
       "       [  0,   0,   0,   0],\n",
       "       [  0,   0,   0,   0],\n",
       "       [  0,   0,   0,   0],\n",
       "       [  0,   0,   0,   0],\n",
       "       [  0,   0,   0,   0],\n",
       "       [  0,   0,   0,   0],\n",
       "       [  0,   0,   0,   0],\n",
       "       [  0,   0,   0,   0],\n",
       "       [  0,   0,   0,   0],\n",
       "       [  0,   0,   0,   0],\n",
       "       [  0,   0,   0,   0],\n",
       "       [  0,   0,   0,   0],\n",
       "       [  0,   0,   0,   0],\n",
       "       [  0,   0,   0,   0],\n",
       "       [  0,   0,   0,   0],\n",
       "       [  0,   0,   0,   0],\n",
       "       [  0,   0,   0,   0],\n",
       "       [  0,   0,   0,   0],\n",
       "       [  0,   0,   0,   0],\n",
       "       [  0,   0,   0,   0],\n",
       "       [  0,   0,   0,   0],\n",
       "       [  0,   0,   0,   0],\n",
       "       [  0,   0,   0,   0],\n",
       "       [  0,   0,   0,   0],\n",
       "       [  0,   0,   0,   0],\n",
       "       [  0,   0,   0,   0],\n",
       "       [  0,   0,   0,   0],\n",
       "       [  0,   0,   0,   0],\n",
       "       [  0,   0,   0,   0],\n",
       "       [  0,   0,   0,   0],\n",
       "       [  0,   0,   0,   0],\n",
       "       [  0,   0,   0,   0],\n",
       "       [  0,   0,   0,   0],\n",
       "       [  0,   0,   0,   0],\n",
       "       [  0,   0,   0,   0],\n",
       "       [  0,   0,   0,   0],\n",
       "       [  0,   0,   0,   0],\n",
       "       [  0,   0,   0,   0],\n",
       "       [  0,   0,   0,   0],\n",
       "       [  0,   0,   0,   0],\n",
       "       [  0,   0,   0,   0],\n",
       "       [  0,   0,   0,   0],\n",
       "       [  0,   0,   0,   0],\n",
       "       [  0,   0,   0,   0],\n",
       "       [  0,   0,   0,   0],\n",
       "       [  0,   0,   0,   0],\n",
       "       [  0,   0,   0,   0],\n",
       "       [  0,   0,   0,   0],\n",
       "       [  0,   0,   0,   0],\n",
       "       [  0,   0,   0,   0],\n",
       "       [  0,   0,   0,   0],\n",
       "       [  0,   0,   0,   0],\n",
       "       [  0,   0,   0,   0],\n",
       "       [  0,   0,   0,   0],\n",
       "       [  0,   0,   0,   0],\n",
       "       [  0,   0,   0,   0],\n",
       "       [  0,   0,   0,   0],\n",
       "       [  0,   0,   0,   0],\n",
       "       [  0,   0,   0,   0],\n",
       "       [  0,   0,   0,   0],\n",
       "       [  0,   0,   0,   0],\n",
       "       [  0,   0,   0,   0],\n",
       "       [  0,   0,   0,   0],\n",
       "       [  0,   0,   0,   0],\n",
       "       [  0,   0,   0,   0],\n",
       "       [  0,   0,   0,   0],\n",
       "       [  0,   0,   0,   0],\n",
       "       [  0,   0,   0,   0],\n",
       "       [  0,   0,   0,   0],\n",
       "       [  0,   0,   0,   0],\n",
       "       [  0,   0,   0,   0],\n",
       "       [  0,   0,   0,   0],\n",
       "       [  0,   0,   0,   0],\n",
       "       [  0,   0,   0,   0],\n",
       "       [  0,   0,   0,   0],\n",
       "       [  0,   0,   0,   0],\n",
       "       [  0,   0,   0,   0],\n",
       "       [  0,   0,   0,   0],\n",
       "       [  0,   0,   0, 114],\n",
       "       [  0,   0,   0, 237],\n",
       "       [  0,   0,   0, 255],\n",
       "       [  0,   0,   0, 255],\n",
       "       [  0,   0,   0, 253],\n",
       "       [  0,   0,   0, 234],\n",
       "       [  0,   0,   0, 150],\n",
       "       [  0,   0,   0,  98],\n",
       "       [  0,   0,   0,  46],\n",
       "       [  0,   0,   0,   9],\n",
       "       [  0,   0,   0,   4],\n",
       "       [  0,   0,   0,  70],\n",
       "       [  0,   0,   0, 231],\n",
       "       [  0,   0,   0, 255],\n",
       "       [  0,   0,   0, 255],\n",
       "       [  0,   0,   0, 254],\n",
       "       [  0,   0,   0, 185],\n",
       "       [  0,   0,   0,  60],\n",
       "       [  0,   0,   0,   8],\n",
       "       [  0,   0,   0,   0],\n",
       "       [  0,   0,   0,   0],\n",
       "       [  0,   0,   0,   0],\n",
       "       [  0,   0,   0,   0],\n",
       "       [  0,   0,   0,   0],\n",
       "       [  0,   0,   0,   0],\n",
       "       [  0,   0,   0,   0],\n",
       "       [  0,   0,   0,   0],\n",
       "       [  0,   0,   0,   0],\n",
       "       [  0,   0,   0,  13],\n",
       "       [  0,   0,   0, 146],\n",
       "       [  0,   0,   0, 208],\n",
       "       [  0,   0,   0, 255],\n",
       "       [  0,   0,   0, 255],\n",
       "       [  0,   0,   0, 255],\n",
       "       [  0,   0,   0, 255],\n",
       "       [  0,   0,   0, 254],\n",
       "       [  0,   0,   0, 192],\n",
       "       [  0,   0,   0,  20],\n",
       "       [  0,   0,   0,   3],\n",
       "       [  0,   0,   0,   0],\n",
       "       [  0,   0,   0,   0],\n",
       "       [  0,   0,   0,   0],\n",
       "       [  0,   0,   0,   0],\n",
       "       [  0,   0,   0,   0]], dtype=uint8)"
      ]
     },
     "execution_count": 326,
     "metadata": {},
     "output_type": "execute_result"
    }
   ],
   "source": [
    "src_img[:,20]"
   ]
  },
  {
   "cell_type": "code",
   "execution_count": 254,
   "metadata": {},
   "outputs": [
    {
     "data": {
      "text/plain": [
       "<matplotlib.image.AxesImage at 0x26a58c25910>"
      ]
     },
     "execution_count": 254,
     "metadata": {},
     "output_type": "execute_result"
    },
    {
     "data": {
      "image/png": "[encoded data removed]",
      "text/plain": [
       "<Figure size 432x288 with 1 Axes>"
      ]
     },
     "metadata": {
      "needs_background": "light"
     },
     "output_type": "display_data"
    }
   ],
   "source": [
    "(thresh, im_bw) = cv2.threshold(img, 128, 255, cv2.THRESH_BINARY | cv2.THRESH_OTSU)\n",
    "if im_bw[0,0] == 255:\n",
    "    im_bw = cv2.bitwise_not(im_bw)\n",
    "plt.imshow(im_bw, cmap='gray')"
   ]
  },
  {
   "cell_type": "code",
   "execution_count": 276,
   "metadata": {},
   "outputs": [
    {
     "name": "stdout",
     "output_type": "stream",
     "text": [
      "(39, 30)\n",
      "Wall time: 17 ms\n"
     ]
    },
    {
     "data": {
      "text/plain": [
       "<matplotlib.image.AxesImage at 0x26a5bcbfaf0>"
      ]
     },
     "execution_count": 276,
     "metadata": {},
     "output_type": "execute_result"
    },
    {
     "data": {
      "image/png": "[encoded data removed]",
      "text/plain": [
       "<Figure size 432x288 with 1 Axes>"
      ]
     },
     "metadata": {
      "needs_background": "light"
     },
     "output_type": "display_data"
    }
   ],
   "source": [
    "%%time\n",
    "crop_left = 0\n",
    "crop_right = 0\n",
    "crop_up = 0\n",
    "crop_down = 0\n",
    "for i in range(im_bw.shape[1]):\n",
    "    if im_bw[:,i].sum() != 0:\n",
    "        crop_left = i\n",
    "        break\n",
    "for i in reversed(range(im_bw.shape[1])):\n",
    "    if im_bw[:,i].sum() != 0:\n",
    "        crop_right = i + 1\n",
    "        break\n",
    "for i in range(im_bw.shape[0]):\n",
    "    if im_bw[i,:].sum() != 0:\n",
    "        crop_up = i\n",
    "        break\n",
    "for i in reversed(range(im_bw.shape[0])):\n",
    "    if im_bw[i,:].sum() != 0:\n",
    "        crop_down = i + 1\n",
    "        break\n",
    "im_bw2 = im_bw[crop_up:crop_down, crop_left:crop_right]\n",
    "print(im_bw2.shape)\n",
    "plt.imshow(im_bw2, cmap='gray')"
   ]
  },
  {
   "cell_type": "code",
   "execution_count": 272,
   "metadata": {},
   "outputs": [
    {
     "data": {
      "text/plain": [
       "<matplotlib.image.AxesImage at 0x26a5bb73280>"
      ]
     },
     "execution_count": 272,
     "metadata": {},
     "output_type": "execute_result"
    },
    {
     "data": {
      "image/png": "[encoded data removed]",
      "text/plain": [
       "<Figure size 432x288 with 1 Axes>"
      ]
     },
     "metadata": {
      "needs_background": "light"
     },
     "output_type": "display_data"
    }
   ],
   "source": [
    "blank_image = np.zeros((N,N), np.uint8)\n",
    "plt.imshow(blank_image, cmap='gray')"
   ]
  },
  {
   "cell_type": "code",
   "execution_count": 277,
   "metadata": {},
   "outputs": [
    {
     "name": "stdout",
     "output_type": "stream",
     "text": [
      "(50, 38)\n"
     ]
    },
    {
     "data": {
      "image/png": "[encoded data removed]",
      "text/plain": [
       "<Figure size 432x288 with 1 Axes>"
      ]
     },
     "metadata": {
      "needs_background": "light"
     },
     "output_type": "display_data"
    }
   ],
   "source": [
    "im_bw3 = cv2.resize(im_bw2, (N * im_bw2.shape[1] // max(im_bw2.shape), N * im_bw2.shape[0] // max(im_bw2.shape)), cv2.INTER_NEAREST)\n",
    "im_bw3 = (im_bw3 > 200) * 255\n",
    "plt.imshow(im_bw3, cmap='gray')\n",
    "print(im_bw3.shape)"
   ]
  },
  {
   "cell_type": "code",
   "execution_count": 278,
   "metadata": {},
   "outputs": [
    {
     "data": {
      "text/plain": [
       "<matplotlib.image.AxesImage at 0x26a5bd67430>"
      ]
     },
     "execution_count": 278,
     "metadata": {},
     "output_type": "execute_result"
    },
    {
     "data": {
      "image/png": "[encoded data removed]",
      "text/plain": [
       "<Figure size 432x288 with 1 Axes>"
      ]
     },
     "metadata": {
      "needs_background": "light"
     },
     "output_type": "display_data"
    }
   ],
   "source": [
    "result_img = blank_image.copy()\n",
    "offset_x = (N - im_bw3.shape[1]) // 2\n",
    "offset_y = (N - im_bw3.shape[0]) // 2\n",
    "result_img[offset_y:offset_y+im_bw3.shape[0], offset_x:offset_x+im_bw3.shape[1]] = im_bw3\n",
    "plt.imshow(result_img, cmap='gray')"
   ]
  }
 ],
 "metadata": {
  "kernelspec": {
   "display_name": "Python 3",
   "language": "python",
   "name": "python3"
  },
  "language_info": {
   "codemirror_mode": {
    "name": "ipython",
    "version": 3
   },
   "file_extension": ".py",
   "mimetype": "text/x-python",
   "name": "python",
   "nbconvert_exporter": "python",
   "pygments_lexer": "ipython3",
   "version": "3.8.0"
  }
 },
 "nbformat": 4,
 "nbformat_minor": 4
}
