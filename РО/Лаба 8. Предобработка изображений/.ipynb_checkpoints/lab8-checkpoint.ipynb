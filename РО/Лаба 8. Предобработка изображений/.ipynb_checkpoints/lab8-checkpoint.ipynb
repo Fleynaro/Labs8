{
 "cells": [
  {
   "cell_type": "code",
   "execution_count": 135,
   "metadata": {},
   "outputs": [],
   "source": [
    "import os\n",
    "import cv2\n",
    "import numpy as np\n",
    "import matplotlib.pyplot as plt\n",
    "%matplotlib inline\n",
    "\n",
    "N = 50"
   ]
  },
  {
   "cell_type": "code",
   "execution_count": 166,
   "metadata": {},
   "outputs": [
    {
     "data": {
      "text/plain": [
       "<matplotlib.image.AxesImage at 0x26a572a2e50>"
      ]
     },
     "execution_count": 166,
     "metadata": {},
     "output_type": "execute_result"
    },
    {
     "data": {
      "image/png": "[encoded data removed]",
      "text/plain": [
       "<Figure size 432x288 with 1 Axes>"
      ]
     },
     "metadata": {
      "needs_background": "light"
     },
     "output_type": "display_data"
    }
   ],
   "source": [
    "img = cv2.imread('train/d6d12d0a-8f26-421a-8f55-aedb60cb44a3/6/02.png', cv2.IMREAD_GRAYSCALE)\n",
    "plt.imshow(img, cmap='gray')"
   ]
  },
  {
   "cell_type": "code",
   "execution_count": 159,
   "metadata": {},
   "outputs": [
    {
     "data": {
      "text/plain": [
       "<matplotlib.image.AxesImage at 0x26a586b5a00>"
      ]
     },
     "execution_count": 159,
     "metadata": {},
     "output_type": "execute_result"
    },
    {
     "data": {
      "image/png": "[encoded data removed]",
      "text/plain": [
       "<Figure size 432x288 with 1 Axes>"
      ]
     },
     "metadata": {
      "needs_background": "light"
     },
     "output_type": "display_data"
    }
   ],
   "source": [
    "(thresh, im_bw) = cv2.threshold(img, 128, 255, cv2.THRESH_BINARY | cv2.THRESH_OTSU)\n",
    "if im_bw[0,0] == 255:\n",
    "    im_bw = cv2.bitwise_not(im_bw)\n",
    "plt.imshow(im_bw, cmap='gray')"
   ]
  },
  {
   "cell_type": "code",
   "execution_count": 170,
   "metadata": {},
   "outputs": [
    {
     "name": "stdout",
     "output_type": "stream",
     "text": [
      "(31, 20)\n",
      "Wall time: 19 ms\n"
     ]
    },
    {
     "data": {
      "text/plain": [
       "<matplotlib.image.AxesImage at 0x26a589fa220>"
      ]
     },
     "execution_count": 170,
     "metadata": {},
     "output_type": "execute_result"
    },
    {
     "data": {
      "image/png": "[encoded data removed]",
      "text/plain": [
       "<Figure size 432x288 with 1 Axes>"
      ]
     },
     "metadata": {
      "needs_background": "light"
     },
     "output_type": "display_data"
    }
   ],
   "source": [
    "%%time\n",
    "crop_left = 0\n",
    "crop_right = 0\n",
    "crop_up = 0\n",
    "crop_down = 0\n",
    "for i in range(im_bw.shape[1]):\n",
    "    if im_bw[:,i].sum() != 0:\n",
    "        crop_left = i\n",
    "        break\n",
    "for i in reversed(range(im_bw.shape[1])):\n",
    "    if im_bw[:,i].sum() != 0:\n",
    "        crop_right = i + 1\n",
    "        break\n",
    "for i in range(im_bw.shape[0]):\n",
    "    if im_bw[i,:].sum() != 0:\n",
    "        crop_up = i\n",
    "        break\n",
    "for i in reversed(range(im_bw.shape[0])):\n",
    "    if im_bw[i,:].sum() != 0:\n",
    "        crop_down = i + 1\n",
    "        break\n",
    "im_bw2 = im_bw[crop_up:crop_down, crop_left:crop_right]\n",
    "print(im_bw2.shape)\n",
    "plt.imshow(im_bw2, cmap='gray')"
   ]
  },
  {
   "cell_type": "code",
   "execution_count": 169,
   "metadata": {},
   "outputs": [
    {
     "data": {
      "text/plain": [
       "<matplotlib.image.AxesImage at 0x26a589979d0>"
      ]
     },
     "execution_count": 169,
     "metadata": {},
     "output_type": "execute_result"
    },
    {
     "data": {
      "image/png": "[encoded data removed]",
      "text/plain": [
       "<Figure size 432x288 with 1 Axes>"
      ]
     },
     "metadata": {
      "needs_background": "light"
     },
     "output_type": "display_data"
    }
   ],
   "source": [
    "blank_image = np.zeros((N,N), np.uint8)\n",
    "plt.imshow(blank_image, cmap='gray')"
   ]
  },
  {
   "cell_type": "code",
   "execution_count": 180,
   "metadata": {},
   "outputs": [
    {
     "name": "stdout",
     "output_type": "stream",
     "text": [
      "(50, 32)\n"
     ]
    },
    {
     "data": {
      "image/png": "[encoded data removed]",
      "text/plain": [
       "<Figure size 432x288 with 1 Axes>"
      ]
     },
     "metadata": {
      "needs_background": "light"
     },
     "output_type": "display_data"
    }
   ],
   "source": [
    "im_bw3 = cv2.resize(im_bw2, (N * im_bw2.shape[1] // max(im_bw2.shape), N * im_bw2.shape[0] // max(im_bw2.shape)), cv2.INTER_NEAREST)\n",
    "im_bw3 = (im_bw3 > 200) * 255\n",
    "plt.imshow(im_bw3, cmap='gray')\n",
    "print(im_bw3.shape)"
   ]
  },
  {
   "cell_type": "code",
   "execution_count": 177,
   "metadata": {},
   "outputs": [
    {
     "data": {
      "text/plain": [
       "<matplotlib.image.AxesImage at 0x26a58a45d90>"
      ]
     },
     "execution_count": 177,
     "metadata": {},
     "output_type": "execute_result"
    },
    {
     "data": {
      "image/png": "[encoded data removed]",
      "text/plain": [
       "<Figure size 432x288 with 1 Axes>"
      ]
     },
     "metadata": {
      "needs_background": "light"
     },
     "output_type": "display_data"
    }
   ],
   "source": [
    "result_img = blank_image.copy()\n",
    "offset_x = (N - im_bw3.shape[1]) // 2\n",
    "offset_y = (N - im_bw3.shape[0]) // 2\n",
    "result_img[offset_y:offset_y+im_bw3.shape[0], offset_x:offset_x+im_bw3.shape[1]] = im_bw3\n",
    "plt.imshow(result_img, cmap='gray')"
   ]
  }
 ],
 "metadata": {
  "kernelspec": {
   "display_name": "Python 3",
   "language": "python",
   "name": "python3"
  },
  "language_info": {
   "codemirror_mode": {
    "name": "ipython",
    "version": 3
   },
   "file_extension": ".py",
   "mimetype": "text/x-python",
   "name": "python",
   "nbconvert_exporter": "python",
   "pygments_lexer": "ipython3",
   "version": "3.8.0"
  }
 },
 "nbformat": 4,
 "nbformat_minor": 4
}
