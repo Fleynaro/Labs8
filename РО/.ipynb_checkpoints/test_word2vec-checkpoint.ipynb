{
 "cells": [
  {
   "cell_type": "code",
   "execution_count": 72,
   "metadata": {},
   "outputs": [],
   "source": [
    "from gensim.models import word2vec\n",
    "import pymongo\n",
    "import pandas as pd\n",
    "import numpy as np\n",
    "\n",
    "CONFIG = {\n",
    "    'mongodb_db_host': '192.168.1.101',\n",
    "    'mongodb_db_port': 27017,\n",
    "    'mongodb_db_name': 'vk',\n",
    "    'mongodb_db_table_users': 'users',\n",
    "    'mongodb_db_table_subscriptions': 'subscriptions2',\n",
    "    'mongodb_db_table_groups': 'groups',\n",
    "    'mongodb_db_table_words': 'words',\n",
    "    'mongodb_db_table_photos': 'photos',\n",
    "    'mongodb_db_table_settings': 'settings'\n",
    "}"
   ]
  },
  {
   "cell_type": "code",
   "execution_count": 7,
   "metadata": {},
   "outputs": [],
   "source": [
    "client = pymongo.MongoClient(CONFIG['mongodb_db_host'], CONFIG['mongodb_db_port'])\n",
    "db = client[CONFIG['mongodb_db_name']]\n",
    "groups_words = db['groups_words2']"
   ]
  },
  {
   "cell_type": "code",
   "execution_count": 64,
   "metadata": {},
   "outputs": [],
   "source": [
    "list_w = [row['words'][:10] for row in groups_words.find()]\n",
    "model = word2vec.Word2Vec(list_w, min_count=1, size=100, workers=8)"
   ]
  },
  {
   "cell_type": "code",
   "execution_count": 65,
   "metadata": {},
   "outputs": [
    {
     "name": "stderr",
     "output_type": "stream",
     "text": [
      "<ipython-input-65-a597c920cf70>:1: DeprecationWarning: Call to deprecated `__getitem__` (Method will be removed in 4.0.0, use self.wv.__getitem__() instead).\n",
      "  model.similar_by_vector(model['велосипед'], topn=20, restrict_vocab=None)\n",
      "<ipython-input-65-a597c920cf70>:1: DeprecationWarning: Call to deprecated `similar_by_vector` (Method will be removed in 4.0.0, use self.wv.similar_by_vector() instead).\n",
      "  model.similar_by_vector(model['велосипед'], topn=20, restrict_vocab=None)\n"
     ]
    },
    {
     "data": {
      "text/plain": [
       "[('велосипед', 1.0),\n",
       " ('специальность', 0.9977136850357056),\n",
       " ('администратор', 0.9976562261581421),\n",
       " ('даун', 0.9975985288619995),\n",
       " ('телеграмма', 0.9975938200950623),\n",
       " ('ложь', 0.9975758194923401),\n",
       " ('мат', 0.9975551962852478),\n",
       " ('ава', 0.9975336790084839),\n",
       " ('блогер', 0.9975324273109436),\n",
       " ('поиск', 0.9975301027297974),\n",
       " ('беседа', 0.9974862337112427),\n",
       " ('ёбаный', 0.997472882270813),\n",
       " ('голосовой', 0.9974619150161743),\n",
       " ('хуй', 0.9974453449249268),\n",
       " ('администрация', 0.9974263310432434),\n",
       " ('авторский', 0.997423529624939),\n",
       " ('мультик', 0.9974223375320435),\n",
       " ('профиль', 0.9974198341369629),\n",
       " ('пояснительный', 0.9974047541618347),\n",
       " ('комма', 0.9974040389060974)]"
      ]
     },
     "execution_count": 65,
     "metadata": {},
     "output_type": "execute_result"
    }
   ],
   "source": [
    "model.similar_by_vector(model['велосипед'], topn=20, restrict_vocab=None)"
   ]
  },
  {
   "cell_type": "code",
   "execution_count": 85,
   "metadata": {},
   "outputs": [
    {
     "name": "stderr",
     "output_type": "stream",
     "text": [
      "<ipython-input-85-58de9e01740f>:5: DeprecationWarning: Call to deprecated `__getitem__` (Method will be removed in 4.0.0, use self.wv.__getitem__() instead).\n",
      "  groups[g_w['_id']] = model[words].mean(axis=0)\n"
     ]
    }
   ],
   "source": [
    "#topic_matrix = []\n",
    "groups = {}\n",
    "for g_w in groups_words.find():\n",
    "    words = g_w['words'][:10]\n",
    "    groups[g_w['_id']] = model[words].mean(axis=0)\n",
    "    #topic_matrix.append(model[words].mean(axis=0))\n",
    "#np.array(topic_matrix)"
   ]
  },
  {
   "cell_type": "code",
   "execution_count": 89,
   "metadata": {},
   "outputs": [
    {
     "data": {
      "text/plain": [
       "[43215063,\n",
       " 57851085,\n",
       " 56176916,\n",
       " 133586119,\n",
       " 33769500,\n",
       " 24518587,\n",
       " 98808011,\n",
       " 24097607,\n",
       " 31563304,\n",
       " 62512467,\n",
       " 137360741,\n",
       " 45085246,\n",
       " 167593072,\n",
       " 84493556,\n",
       " 28455062,\n",
       " 105390071,\n",
       " 166483685,\n",
       " 128739314,\n",
       " 43992176,\n",
       " 59666224]"
      ]
     },
     "execution_count": 89,
     "metadata": {},
     "output_type": "execute_result"
    }
   ],
   "source": [
    "vec0 = groups[43215063]\n",
    "indexes = sorted(groups, key=lambda k: np.linalg.norm(groups[k]-vec0), reverse=False)\n",
    "indexes[:20]"
   ]
  }
 ],
 "metadata": {
  "kernelspec": {
   "display_name": "Python 3",
   "language": "python",
   "name": "python3"
  },
  "language_info": {
   "codemirror_mode": {
    "name": "ipython",
    "version": 3
   },
   "file_extension": ".py",
   "mimetype": "text/x-python",
   "name": "python",
   "nbconvert_exporter": "python",
   "pygments_lexer": "ipython3",
   "version": "3.8.0"
  }
 },
 "nbformat": 4,
 "nbformat_minor": 4
}
