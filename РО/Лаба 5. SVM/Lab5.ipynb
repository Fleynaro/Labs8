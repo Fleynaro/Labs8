{
 "cells": [
  {
   "cell_type": "code",
   "execution_count": 1,
   "metadata": {},
   "outputs": [],
   "source": [
    "import sys\n",
    "import pandas as pd\n",
    "import numpy as np\n",
    "import torch\n",
    "from sklearn.datasets import load_iris\n",
    "from sklearn.model_selection import train_test_split"
   ]
  },
  {
   "cell_type": "code",
   "execution_count": 19,
   "metadata": {},
   "outputs": [],
   "source": [
    "def add_bias_feature(a):\n",
    "    a_extended = np.zeros((a.shape[0], a.shape[1] + 1))\n",
    "    a_extended[:, :-1] = a\n",
    "    a_extended[:, -1] = 1.\n",
    "    return a_extended\n",
    "\n",
    "\n",
    "# классификатор\n",
    "class SVM:\n",
    "    def __init__(self):\n",
    "        self.w = None\n",
    "\n",
    "    def train(self, X_train, y_train, X_test, y_test, epoches_count=10, batch_size=5, alpha=0.1):\n",
    "        # создаем вектор весов, расширяя пространство на 1\n",
    "        self.w = torch.ones([X_train.shape[1] + 1, 1], requires_grad=True)\n",
    "\n",
    "        # стохастический градиентный спуск\n",
    "        optimizer = torch.optim.SGD([self.w], lr=1.0e-4)\n",
    "        for epoch in range(epoches_count):\n",
    "            # перемешиваем индексы\n",
    "            order = np.random.permutation(len(X_train))\n",
    "            for start_index in range(0, len(X_train), batch_size):\n",
    "                optimizer.zero_grad()\n",
    "                # формируем батч\n",
    "                batch_indexes = order[start_index:start_index + batch_size]\n",
    "                X_batch = torch.tensor(add_bias_feature(X_train.iloc[batch_indexes].values).astype(np.float32))\n",
    "                y_batch = torch.tensor(y_train.iloc[batch_indexes].values.astype(np.float32)).unsqueeze(1)\n",
    "\n",
    "                # построение графа вычислений для функции потерь SVM\n",
    "                zeros = torch.zeros([batch_size, 1])\n",
    "                L = self.w.t() @ self.w / 2.\n",
    "                loss_val = torch.max(zeros, 1. - y_batch * X_batch @ self.w) + alpha / len(X_train) * L\n",
    "                loss_val = loss_val.sum()\n",
    "\n",
    "                # нахождение градиента\n",
    "                loss_val.backward()\n",
    "                optimizer.step()\n",
    "            predicted = self.predict_test_set(X_test)\n",
    "            accuracy = (y_test == predicted).mean()\n",
    "            print(f'accuracy = {accuracy}')\n",
    "\n",
    "    def predict(self, sample):\n",
    "        x = sample.values\n",
    "        x = np.append(x, 1.)\n",
    "        label = self.w.t() @ torch.tensor(x.astype(np.float32))\n",
    "        return np.sign(label.item())\n",
    "\n",
    "    def predict_test_set(self, X_test):\n",
    "        return X_test.apply(lambda row: self.predict(row), axis=1)"
   ]
  },
  {
   "cell_type": "code",
   "execution_count": 20,
   "metadata": {},
   "outputs": [
    {
     "name": "stdout",
     "output_type": "stream",
     "text": [
      "accuracy = 0.9333333333333333\n",
      "accuracy = 0.9333333333333333\n",
      "accuracy = 0.9333333333333333\n",
      "accuracy = 0.9333333333333333\n",
      "accuracy = 0.9333333333333333\n",
      "accuracy = 0.9333333333333333\n",
      "accuracy = 0.9333333333333333\n",
      "accuracy = 0.9333333333333333\n",
      "accuracy = 0.9333333333333333\n",
      "accuracy = 0.9333333333333333\n",
      "accuracy = 0.9333333333333333\n"
     ]
    }
   ],
   "source": [
    "# загружаем множество объектов\n",
    "iris = load_iris()\n",
    "X = pd.DataFrame(iris.data, columns=iris.feature_names)\n",
    "y = pd.Series(iris.target).map(lambda label: -1.0 if label == 1 else 1.0)\n",
    "\n",
    "# делим множество на train/test\n",
    "X_train, X_test, y_train, y_test = train_test_split(X, y, test_size=0.1, random_state=2)\n",
    "\n",
    "# кластеризация\n",
    "classifier = SVM()\n",
    "classifier.train(X_train, y_train, X_test, y_test)\n",
    "predicted = classifier.predict_test_set(X_test)\n",
    "accuracy = (y_test == predicted).mean()\n",
    "print(f'accuracy = {accuracy}')"
   ]
  }
 ],
 "metadata": {
  "kernelspec": {
   "display_name": "Python 3",
   "language": "python",
   "name": "python3"
  },
  "language_info": {
   "codemirror_mode": {
    "name": "ipython",
    "version": 3
   },
   "file_extension": ".py",
   "mimetype": "text/x-python",
   "name": "python",
   "nbconvert_exporter": "python",
   "pygments_lexer": "ipython3",
   "version": "3.8.0"
  }
 },
 "nbformat": 4,
 "nbformat_minor": 4
}
