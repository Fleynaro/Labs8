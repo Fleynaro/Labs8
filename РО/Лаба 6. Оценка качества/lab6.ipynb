{
 "cells": [
  {
   "cell_type": "code",
   "execution_count": 50,
   "metadata": {},
   "outputs": [],
   "source": [
    "import sys\n",
    "import pandas as pd\n",
    "import numpy as np\n",
    "import torch\n",
    "from sklearn.datasets import load_iris\n",
    "from sklearn.model_selection import train_test_split\n",
    "import matplotlib.pyplot as plt\n",
    "import sklearn.metrics as metrics"
   ]
  },
  {
   "cell_type": "code",
   "execution_count": 4,
   "metadata": {},
   "outputs": [],
   "source": [
    "# кластеризатор\n",
    "class MaxminMethod:\n",
    "    def __init__(self, X_set):\n",
    "        self.X_set = X_set\n",
    "        self.clusters = []\n",
    "        # метрика (евклидова)\n",
    "        self.metric_func = lambda x, y: np.sqrt(((x - y) ** 2).sum())\n",
    "\n",
    "    # поулчаем кластеры с объектами\n",
    "    def get_clusters(self):\n",
    "        result = {}\n",
    "        for cluster in self.clusters:\n",
    "            result[cluster['obj_prototype_idx']] = []\n",
    "        for obj_idx in self.X_set.index:\n",
    "            min_dist = sys.float_info.max\n",
    "            obj_prototype_idx = -1\n",
    "            for cluster in self.clusters:\n",
    "                dist = cluster['dist'][obj_idx]\n",
    "                if dist < min_dist:\n",
    "                    min_dist = cluster['dist'][obj_idx]\n",
    "                    obj_prototype_idx = cluster['obj_prototype_idx']\n",
    "            result[obj_prototype_idx].append(obj_idx)\n",
    "        return result\n",
    "\n",
    "    # запуск алгоритма\n",
    "    def start(self):\n",
    "        self.clusters.clear()\n",
    "        self.clusters.append({\n",
    "            'obj_prototype_idx': 0,\n",
    "            'dist': self.get_series_of_dist_to_obj(self.X_set.loc[0])\n",
    "        })\n",
    "        while True:\n",
    "            prototype_obj_idx, max_dist = self.find_next_possible_prototype()\n",
    "            if max_dist <= self.get_average_dist_of_clusters():\n",
    "                break\n",
    "            self.clusters.append({\n",
    "                'obj_prototype_idx': prototype_obj_idx,\n",
    "                'dist': self.get_series_of_dist_to_obj(self.X_set.loc[prototype_obj_idx])\n",
    "            })\n",
    "\n",
    "    # находим половину среднего арифметического всех расстояний между прототипами\n",
    "    def get_average_dist_of_clusters(self):\n",
    "        sum = 0.0\n",
    "        count = 0\n",
    "        for i in range(0, len(self.clusters)):\n",
    "            for j in range(i + 1, len(self.clusters)):\n",
    "                obj_prototype_idx = self.clusters[j]['obj_prototype_idx']\n",
    "                sum = sum + self.clusters[i]['dist'][obj_prototype_idx]\n",
    "                count = count + 1\n",
    "        if count == 0:\n",
    "            return 0.0\n",
    "        return sum / (2 * count)\n",
    "\n",
    "    # найти следующий потенциальный прототип\n",
    "    def find_next_possible_prototype(self):\n",
    "        max_dist = 0.0\n",
    "        prototype_obj_idx = -1\n",
    "        for obj_idx in self.X_set.index:\n",
    "            min_dist = sys.float_info.max\n",
    "            for cluster in self.clusters:\n",
    "                dist = cluster['dist'][obj_idx]\n",
    "                if dist < min_dist:\n",
    "                    min_dist = cluster['dist'][obj_idx]\n",
    "            if min_dist > max_dist:\n",
    "                max_dist = min_dist\n",
    "                prototype_obj_idx = obj_idx\n",
    "        return prototype_obj_idx, max_dist\n",
    "\n",
    "    # поулчить серию расстояний от всех объектов до данного\n",
    "    def get_series_of_dist_to_obj(self, obj):\n",
    "        return self.X_set.apply(lambda row: self.metric_func(row, obj), axis=1)"
   ]
  },
  {
   "cell_type": "code",
   "execution_count": 5,
   "metadata": {},
   "outputs": [],
   "source": [
    "# кластеризатор\n",
    "class KMeansMethod:\n",
    "    def __init__(self, X_set, cluster_count):\n",
    "        self.X_set = X_set\n",
    "        self.cluster_count = cluster_count\n",
    "        self.clusters = []\n",
    "        # метрика (евклидова)\n",
    "        self.metric_func = lambda x, y: ((x - y) ** 2).sum()\n",
    "        self.delta_eps = 0.01 * 0.01\n",
    "\n",
    "    # поулчаем кластеры с объектами\n",
    "    def get_clusters(self, indexes=True):\n",
    "        cluster_objs = {}\n",
    "        for obj_idx, obj in self.X_set.iterrows():\n",
    "            min_dist = sys.float_info.max\n",
    "            cluster_idx = -1\n",
    "            for (i, prototype_obj) in enumerate(self.clusters):\n",
    "                dist = self.metric_func(obj, prototype_obj)\n",
    "                if dist < min_dist:\n",
    "                    min_dist = dist\n",
    "                    cluster_idx = i\n",
    "            if indexes:\n",
    "                cluster_objs.setdefault(cluster_idx, []).append(obj_idx)\n",
    "            else:\n",
    "                cluster_objs.setdefault(cluster_idx, []).append(obj)\n",
    "        return cluster_objs\n",
    "\n",
    "    # запуск алгоритма\n",
    "    def start(self):\n",
    "        self.clusters.clear()\n",
    "        for i in range(0, self.cluster_count):\n",
    "            self.clusters.append(self.X_set.loc[i])\n",
    "\n",
    "        while True:\n",
    "            cluster_objs = self.get_clusters(False)\n",
    "            end = True\n",
    "            for cluster_idx, objs in cluster_objs.items():\n",
    "                df = pd.DataFrame(objs)\n",
    "                mean_val = df.mean()\n",
    "                if self.metric_func(self.clusters[cluster_idx], mean_val) >= self.delta_eps:\n",
    "                    self.clusters[cluster_idx] = mean_val\n",
    "                    end = False\n",
    "            if end:\n",
    "                break"
   ]
  },
  {
   "cell_type": "code",
   "execution_count": 68,
   "metadata": {},
   "outputs": [],
   "source": [
    "# классификатор\n",
    "class KNearestNeighbors:\n",
    "    def __init__(self, k):\n",
    "        self.k = k\n",
    "        self.metric_func = lambda x, y: ((x - y) ** 2).sum()\n",
    "        \n",
    "    def train(self, X_train, y_train):\n",
    "        self.X_train = X_train\n",
    "        self.y_train = y_train\n",
    "\n",
    "    def predict(self, sample):\n",
    "        indexes = self.X_train.apply(lambda row: self.metric_func(row, sample), axis=1).to_frame().sort_values(0).head(self.k).index\n",
    "        return self.y_train[indexes].value_counts().idxmax()\n",
    "\n",
    "    def predict_test_set(self, X_test):\n",
    "        return X_test.apply(lambda row: self.predict(row), axis=1)"
   ]
  },
  {
   "cell_type": "code",
   "execution_count": 69,
   "metadata": {},
   "outputs": [],
   "source": [
    "def add_bias_feature(a):\n",
    "    a_extended = np.zeros((a.shape[0], a.shape[1] + 1))\n",
    "    a_extended[:, :-1] = a\n",
    "    a_extended[:, -1] = 1.\n",
    "    return a_extended\n",
    "\n",
    "\n",
    "# классификатор\n",
    "class SVM:\n",
    "    def __init__(self):\n",
    "        self.w = None\n",
    "\n",
    "    def train(self, X_train, y_train, epoches_count=1000, batch_size=20, alpha=0.1):\n",
    "        # создаем вектор весов, расширяя пространство на 1\n",
    "        self.w = torch.rand([X_train.shape[1] + 1, 1], requires_grad=True)\n",
    "\n",
    "        # стохастический градиентный спуск\n",
    "        optimizer = torch.optim.SGD([self.w], lr=0.001)\n",
    "        for epoch in range(epoches_count):\n",
    "            # перемешиваем индексы\n",
    "            order = np.random.permutation(len(X_train))\n",
    "            sum_loss = 0\n",
    "            for start_index in range(0, len(X_train), batch_size):\n",
    "                optimizer.zero_grad()\n",
    "                # формируем батч\n",
    "                batch_indexes = order[start_index:start_index + batch_size]\n",
    "                X_batch = torch.tensor(add_bias_feature(X_train.iloc[batch_indexes].values).astype(np.float32))\n",
    "                y_batch = torch.tensor(y_train.iloc[batch_indexes].values.astype(np.float32)).unsqueeze(1)\n",
    "\n",
    "                # построение графа вычислений для функции потерь SVM\n",
    "                loss_val = torch.clamp(1. - y_batch * X_batch @ self.w, min=0)\n",
    "                loss_val = loss_val.mean() + alpha * self.w.t() @ self.w / 2.\n",
    "\n",
    "                # нахождение градиента\n",
    "                loss_val.backward()\n",
    "                optimizer.step()\n",
    "                sum_loss += float(loss_val)\n",
    "            #predicted = self.predict_test_set(X_test)\n",
    "            #accuracy = (y_test == predicted).mean()\n",
    "            #print(f'accuracy = {accuracy}, sum_loss = {sum_loss}')\n",
    "\n",
    "    def predict(self, sample):\n",
    "        x = sample.values\n",
    "        x = np.append(x, 1.)\n",
    "        label = self.w.t() @ torch.tensor(x.astype(np.float32))\n",
    "        return np.sign(label.item())\n",
    "\n",
    "    def predict_test_set(self, X_test):\n",
    "        return X_test.apply(lambda row: self.predict(row), axis=1)"
   ]
  },
  {
   "cell_type": "code",
   "execution_count": 56,
   "metadata": {},
   "outputs": [],
   "source": [
    "# загружаем множество объектов\n",
    "iris = load_iris()\n",
    "X = pd.DataFrame(iris.data, columns=iris.feature_names)\n",
    "y = pd.Series(iris.target).map(lambda label: -1.0 if label == 2 else 1.0)\n",
    "# положительный класс имеет метку 1.0"
   ]
  },
  {
   "cell_type": "code",
   "execution_count": 57,
   "metadata": {},
   "outputs": [],
   "source": [
    "maxmin_method = MaxminMethod(X)\n",
    "maxmin_method.start()\n",
    "clusters1 = maxmin_method.get_clusters()\n",
    "\n",
    "k_means_method = KMeansMethod(X, 3)\n",
    "k_means_method.start()\n",
    "clusters2 = k_means_method.get_clusters()"
   ]
  },
  {
   "cell_type": "code",
   "execution_count": 75,
   "metadata": {},
   "outputs": [],
   "source": [
    "# делим множество на train/test\n",
    "X_train, X_test, y_train, y_test = train_test_split(X, y, test_size=0.1, random_state=5)\n",
    "\n",
    "classifier1 = KNearestNeighbors(5)\n",
    "classifier1.train(X_train, y_train)\n",
    "predicted1 = classifier1.predict_test_set(X_test)\n",
    "\n",
    "classifier2 = SVM()\n",
    "classifier2.train(X_train, y_train)\n",
    "predicted2 = classifier2.predict_test_set(X_test)"
   ]
  },
  {
   "cell_type": "code",
   "execution_count": 88,
   "metadata": {},
   "outputs": [],
   "source": [
    "def estimate_clf(y_test, predicted):\n",
    "    TP = ((y_test == 1.0) & (predicted == 1.0)).sum()\n",
    "    TN = ((y_test == -1.0) & (predicted == -1.0)).sum()\n",
    "    FP = ((y_test == -1.0) & (predicted == 1.0)).sum()\n",
    "    FN = ((y_test == 1.0) & (predicted == -1.0)).sum()\n",
    "    precision = TP / (TP + FP)\n",
    "    recall = TP / (TP + FN)\n",
    "    f1 = 2 * precision * recall / (precision + recall)\n",
    "    MSE = (y_test - predicted).pow(2).mean()\n",
    "    print(f'1) точность = {precision}, полнота = {recall}, F1-мера = {f1}')\n",
    "    print(f'2) ROC-кривая')\n",
    "    fpr, tpr, threshold = metrics.roc_curve(y_test, predicted)\n",
    "    roc_auc = metrics.auc(fpr, tpr)\n",
    "    plt.title('Receiver Operating Characteristic')\n",
    "    plt.plot(fpr, tpr, 'b', label = 'AUC = %0.2f' % roc_auc)\n",
    "    plt.legend(loc = 'lower right')\n",
    "    plt.plot([0, 1], [0, 1],'r--')\n",
    "    plt.xlim([0, 1])\n",
    "    plt.ylim([0, 1])\n",
    "    plt.ylabel('True Positive Rate')\n",
    "    plt.xlabel('False Positive Rate')\n",
    "    plt.show()\n",
    "    \n",
    "    print(f'3) MSE = {MSE}')\n",
    "    print(f'4) матрица неточности:\\n{TN} | {FN}\\n{FP} | {TP}')"
   ]
  },
  {
   "cell_type": "code",
   "execution_count": 89,
   "metadata": {},
   "outputs": [],
   "source": [
    "def cross_validation(clf, X, y, k=5):\n",
    "    order = np.random.permutation(X.index)\n",
    "    part_size = len(X) // k\n",
    "    total_accuracy = 0.0\n",
    "    for start_index in range(0, len(order), part_size):\n",
    "        train_indexes = np.hstack([order[:start_index], order[start_index + part_size:]])\n",
    "        test_indexes = order[start_index:start_index + part_size]\n",
    "        clf.train(X.loc[train_indexes], y[train_indexes])\n",
    "        predicted = clf.predict_test_set(X.loc[test_indexes])\n",
    "        accuracy = (y[test_indexes] == predicted).mean()\n",
    "        total_accuracy += accuracy\n",
    "    return total_accuracy / k"
   ]
  },
  {
   "cell_type": "code",
   "execution_count": 90,
   "metadata": {},
   "outputs": [
    {
     "name": "stdout",
     "output_type": "stream",
     "text": [
      "KNearestNeighbors\n",
      "1) точность = 1.0, полнота = 0.8888888888888888, F1-мера = 0.9411764705882353\n",
      "2) ROC-кривая\n"
     ]
    },
    {
     "data": {
      "image/png": "[encoded data removed]",
      "text/plain": [
       "<Figure size 432x288 with 1 Axes>"
      ]
     },
     "metadata": {
      "needs_background": "light"
     },
     "output_type": "display_data"
    },
    {
     "name": "stdout",
     "output_type": "stream",
     "text": [
      "3) MSE = 0.26666666666666666\n",
      "4) матрица неточности:\n",
      "6 | 1\n",
      "0 | 8\n",
      "5) Кросс-валидация = 0.9666666666666668\n"
     ]
    }
   ],
   "source": [
    "print('KNearestNeighbors')\n",
    "estimate_clf(y_test, predicted1)\n",
    "accuracy = cross_validation(classifier1, X, y)\n",
    "print(f'5) Кросс-валидация = {accuracy}')"
   ]
  },
  {
   "cell_type": "code",
   "execution_count": 91,
   "metadata": {},
   "outputs": [
    {
     "name": "stdout",
     "output_type": "stream",
     "text": [
      "SVM\n",
      "1) точность = 1.0, полнота = 0.7777777777777778, F1-мера = 0.8750000000000001\n",
      "2) ROC-кривая\n"
     ]
    },
    {
     "data": {
      "image/png": "[encoded data removed]",
      "text/plain": [
       "<Figure size 432x288 with 1 Axes>"
      ]
     },
     "metadata": {
      "needs_background": "light"
     },
     "output_type": "display_data"
    },
    {
     "name": "stdout",
     "output_type": "stream",
     "text": [
      "3) MSE = 0.5333333333333333\n",
      "4) матрица неточности:\n",
      "6 | 2\n",
      "0 | 7\n",
      "5) Кросс-валидация = 0.9533333333333334\n"
     ]
    }
   ],
   "source": [
    "print('SVM')\n",
    "estimate_clf(y_test, predicted2)\n",
    "accuracy = cross_validation(classifier2, X, y)\n",
    "print(f'5) Кросс-валидация = {accuracy}')"
   ]
  },
  {
   "cell_type": "code",
   "execution_count": 165,
   "metadata": {},
   "outputs": [
    {
     "data": {
      "text/html": [
       "<div>\n",
       "<style scoped>\n",
       "    .dataframe tbody tr th:only-of-type {\n",
       "        vertical-align: middle;\n",
       "    }\n",
       "\n",
       "    .dataframe tbody tr th {\n",
       "        vertical-align: top;\n",
       "    }\n",
       "\n",
       "    .dataframe thead th {\n",
       "        text-align: right;\n",
       "    }\n",
       "</style>\n",
       "<table border=\"1\" class=\"dataframe\">\n",
       "  <thead>\n",
       "    <tr style=\"text-align: right;\">\n",
       "      <th></th>\n",
       "      <th>x1</th>\n",
       "      <th>x2</th>\n",
       "      <th>x3</th>\n",
       "      <th>cluster</th>\n",
       "    </tr>\n",
       "  </thead>\n",
       "  <tbody>\n",
       "    <tr>\n",
       "      <th>0</th>\n",
       "      <td>-1.077025</td>\n",
       "      <td>-1.266896</td>\n",
       "      <td>-0.616675</td>\n",
       "      <td>1</td>\n",
       "    </tr>\n",
       "    <tr>\n",
       "      <th>1</th>\n",
       "      <td>-0.430467</td>\n",
       "      <td>-0.659645</td>\n",
       "      <td>-0.024909</td>\n",
       "      <td>1</td>\n",
       "    </tr>\n",
       "    <tr>\n",
       "      <th>2</th>\n",
       "      <td>0.368813</td>\n",
       "      <td>1.716952</td>\n",
       "      <td>0.430061</td>\n",
       "      <td>2</td>\n",
       "    </tr>\n",
       "    <tr>\n",
       "      <th>3</th>\n",
       "      <td>0.953682</td>\n",
       "      <td>-1.034902</td>\n",
       "      <td>0.782635</td>\n",
       "      <td>6</td>\n",
       "    </tr>\n",
       "    <tr>\n",
       "      <th>4</th>\n",
       "      <td>-0.857504</td>\n",
       "      <td>-0.835224</td>\n",
       "      <td>-0.428616</td>\n",
       "      <td>6</td>\n",
       "    </tr>\n",
       "  </tbody>\n",
       "</table>\n",
       "</div>"
      ],
      "text/plain": [
       "         x1        x2        x3  cluster\n",
       "0 -1.077025 -1.266896 -0.616675        1\n",
       "1 -0.430467 -0.659645 -0.024909        1\n",
       "2  0.368813  1.716952  0.430061        2\n",
       "3  0.953682 -1.034902  0.782635        6\n",
       "4 -0.857504 -0.835224 -0.428616        6"
      ]
     },
     "execution_count": 165,
     "metadata": {},
     "output_type": "execute_result"
    }
   ],
   "source": [
    "df = pd.DataFrame(np.random.randn(5, 3),columns=['x1', 'x2', 'x3'])\n",
    "df['cluster'] = pd.Series([1,1,2,6,6])\n",
    "df"
   ]
  },
  {
   "cell_type": "code",
   "execution_count": 166,
   "metadata": {},
   "outputs": [
    {
     "data": {
      "text/html": [
       "<div>\n",
       "<style scoped>\n",
       "    .dataframe tbody tr th:only-of-type {\n",
       "        vertical-align: middle;\n",
       "    }\n",
       "\n",
       "    .dataframe tbody tr th {\n",
       "        vertical-align: top;\n",
       "    }\n",
       "\n",
       "    .dataframe thead th {\n",
       "        text-align: right;\n",
       "    }\n",
       "</style>\n",
       "<table border=\"1\" class=\"dataframe\">\n",
       "  <thead>\n",
       "    <tr style=\"text-align: right;\">\n",
       "      <th></th>\n",
       "      <th>x1</th>\n",
       "      <th>x2</th>\n",
       "      <th>x3</th>\n",
       "    </tr>\n",
       "    <tr>\n",
       "      <th>cluster</th>\n",
       "      <th></th>\n",
       "      <th></th>\n",
       "      <th></th>\n",
       "    </tr>\n",
       "  </thead>\n",
       "  <tbody>\n",
       "    <tr>\n",
       "      <th>1</th>\n",
       "      <td>-0.753746</td>\n",
       "      <td>-0.963270</td>\n",
       "      <td>-0.320792</td>\n",
       "    </tr>\n",
       "    <tr>\n",
       "      <th>2</th>\n",
       "      <td>0.368813</td>\n",
       "      <td>1.716952</td>\n",
       "      <td>0.430061</td>\n",
       "    </tr>\n",
       "    <tr>\n",
       "      <th>6</th>\n",
       "      <td>0.048089</td>\n",
       "      <td>-0.935063</td>\n",
       "      <td>0.177009</td>\n",
       "    </tr>\n",
       "  </tbody>\n",
       "</table>\n",
       "</div>"
      ],
      "text/plain": [
       "               x1        x2        x3\n",
       "cluster                              \n",
       "1       -0.753746 -0.963270 -0.320792\n",
       "2        0.368813  1.716952  0.430061\n",
       "6        0.048089 -0.935063  0.177009"
      ]
     },
     "execution_count": 166,
     "metadata": {},
     "output_type": "execute_result"
    }
   ],
   "source": [
    "df.groupby('cluster').apply(lambda objs: objs.mean())"
   ]
  },
  {
   "cell_type": "code",
   "execution_count": 146,
   "metadata": {},
   "outputs": [],
   "source": [
    "def to_df(clusters):\n",
    "    result = None\n",
    "    for k, v in clusters.items():\n",
    "        df = X.loc[v].copy()\n",
    "        df['cluster'] = k\n",
    "        result = pd.concat([result, df])\n",
    "    return result"
   ]
  },
  {
   "cell_type": "code",
   "execution_count": 131,
   "metadata": {},
   "outputs": [],
   "source": [
    "def CoefficientOfDetermination(df):\n",
    "    all_objs = df.drop('cluster', axis=1)\n",
    "    global_center = all_objs.mean()\n",
    "    SSB = 0.0\n",
    "    SST = all_objs.apply(\n",
    "        lambda obj: ((obj - global_center) ** 2).sum(), axis=1).sum()\n",
    "    for cluster_idx in df.cluster.unique():\n",
    "        cluster_objs = df[df.cluster == cluster_idx].drop('cluster', axis=1)\n",
    "        cluster_center = cluster_objs.mean()\n",
    "        SSB += cluster_objs.apply(\n",
    "            lambda obj: ((obj - cluster_center) ** 2).sum(), axis=1).sum()\n",
    "    return 1.0 - SSB / SST"
   ]
  },
  {
   "cell_type": "code",
   "execution_count": 178,
   "metadata": {},
   "outputs": [],
   "source": [
    "def Silhouette(df):\n",
    "    def get_nearest_cluster(obj):\n",
    "        return df[df.cluster != obj.cluster].groupby('cluster').apply(\n",
    "            lambda objs: np.linalg.norm(objs.mean()[:-1] - obj[:-1])).sort_values(0).index[0]\n",
    "    def calc_a(obj):\n",
    "        return df[df.cluster == obj.cluster].apply(\n",
    "            lambda obj2: np.linalg.norm((obj - obj2).values), axis=1).mean()\n",
    "    def calc_b(obj, nearest_cluster):\n",
    "        return df[df.cluster == nearest_cluster].apply(\n",
    "            lambda obj2: np.linalg.norm((obj - obj2).values), axis=1).mean()\n",
    "    calc = lambda a, b: (b - a) / max(a, b)\n",
    "    return df.apply(\n",
    "        lambda obj: calc(calc_a(obj), calc_b(obj, get_nearest_cluster(obj))), axis=1).mean()"
   ]
  },
  {
   "cell_type": "code",
   "execution_count": 177,
   "metadata": {},
   "outputs": [
    {
     "data": {
      "text/plain": [
       "5.150696261531362"
      ]
     },
     "execution_count": 177,
     "metadata": {},
     "output_type": "execute_result"
    }
   ],
   "source": [
    "# check\n",
    "df[df.cluster == 6].apply(\n",
    "            lambda obj2: np.linalg.norm((df.loc[1,:] - obj2).values), axis=1).mean()"
   ]
  },
  {
   "cell_type": "code",
   "execution_count": 167,
   "metadata": {},
   "outputs": [],
   "source": [
    "def estimate_clst(clusters):\n",
    "    df = to_df(clusters)\n",
    "    Rsq = CoefficientOfDetermination(df)\n",
    "    Sil = Silhouette(df)\n",
    "    print(f'1. Коэффициент детерминации = {Rsq}')\n",
    "    print(f'2. Коэффициент силуэта = {Sil}')"
   ]
  },
  {
   "cell_type": "code",
   "execution_count": 179,
   "metadata": {},
   "outputs": [
    {
     "name": "stdout",
     "output_type": "stream",
     "text": [
      "MaxminMethod\n",
      "1. Коэффициент детерминации = 0.8754015709670973\n",
      "2. Коэффициент силуэта = 0.9466922224101694\n"
     ]
    }
   ],
   "source": [
    "print('MaxminMethod')\n",
    "estimate_clst(clusters1)"
   ]
  },
  {
   "cell_type": "code",
   "execution_count": 180,
   "metadata": {},
   "outputs": [
    {
     "name": "stdout",
     "output_type": "stream",
     "text": [
      "KMeansMethod\n",
      "1. Коэффициент детерминации = 0.8842690514883129\n",
      "2. Коэффициент силуэта = 0.6195922556510821\n"
     ]
    }
   ],
   "source": [
    "print('KMeansMethod')\n",
    "estimate_clst(clusters2)"
   ]
  }
 ],
 "metadata": {
  "kernelspec": {
   "display_name": "Python 3",
   "language": "python",
   "name": "python3"
  },
  "language_info": {
   "codemirror_mode": {
    "name": "ipython",
    "version": 3
   },
   "file_extension": ".py",
   "mimetype": "text/x-python",
   "name": "python",
   "nbconvert_exporter": "python",
   "pygments_lexer": "ipython3",
   "version": "3.8.0"
  }
 },
 "nbformat": 4,
 "nbformat_minor": 4
}
