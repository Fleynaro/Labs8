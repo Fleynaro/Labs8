{
 "cells": [
  {
   "cell_type": "code",
   "execution_count": 50,
   "metadata": {},
   "outputs": [],
   "source": [
    "import sys\n",
    "import pandas as pd\n",
    "import numpy as np\n",
    "import torch\n",
    "from sklearn.datasets import load_iris\n",
    "from sklearn.model_selection import train_test_split\n",
    "import matplotlib.pyplot as plt\n",
    "import sklearn.metrics as metrics"
   ]
  },
  {
   "cell_type": "code",
   "execution_count": 4,
   "metadata": {},
   "outputs": [],
   "source": [
    "# кластеризатор\n",
    "class MaxminMethod:\n",
    "    def __init__(self, X_set):\n",
    "        self.X_set = X_set\n",
    "        self.clusters = []\n",
    "        # метрика (евклидова)\n",
    "        self.metric_func = lambda x, y: np.sqrt(((x - y) ** 2).sum())\n",
    "\n",
    "    # поулчаем кластеры с объектами\n",
    "    def get_clusters(self):\n",
    "        result = {}\n",
    "        for cluster in self.clusters:\n",
    "            result[cluster['obj_prototype_idx']] = []\n",
    "        for obj_idx in self.X_set.index:\n",
    "            min_dist = sys.float_info.max\n",
    "            obj_prototype_idx = -1\n",
    "            for cluster in self.clusters:\n",
    "                dist = cluster['dist'][obj_idx]\n",
    "                if dist < min_dist:\n",
    "                    min_dist = cluster['dist'][obj_idx]\n",
    "                    obj_prototype_idx = cluster['obj_prototype_idx']\n",
    "            result[obj_prototype_idx].append(obj_idx)\n",
    "        return result\n",
    "\n",
    "    # запуск алгоритма\n",
    "    def start(self):\n",
    "        self.clusters.clear()\n",
    "        self.clusters.append({\n",
    "            'obj_prototype_idx': 0,\n",
    "            'dist': self.get_series_of_dist_to_obj(self.X_set.loc[0])\n",
    "        })\n",
    "        while True:\n",
    "            prototype_obj_idx, max_dist = self.find_next_possible_prototype()\n",
    "            if max_dist <= self.get_average_dist_of_clusters():\n",
    "                break\n",
    "            self.clusters.append({\n",
    "                'obj_prototype_idx': prototype_obj_idx,\n",
    "                'dist': self.get_series_of_dist_to_obj(self.X_set.loc[prototype_obj_idx])\n",
    "            })\n",
    "\n",
    "    # находим половину среднего арифметического всех расстояний между прототипами\n",
    "    def get_average_dist_of_clusters(self):\n",
    "        sum = 0.0\n",
    "        count = 0\n",
    "        for i in range(0, len(self.clusters)):\n",
    "            for j in range(i + 1, len(self.clusters)):\n",
    "                obj_prototype_idx = self.clusters[j]['obj_prototype_idx']\n",
    "                sum = sum + self.clusters[i]['dist'][obj_prototype_idx]\n",
    "                count = count + 1\n",
    "        if count == 0:\n",
    "            return 0.0\n",
    "        return sum / (2 * count)\n",
    "\n",
    "    # найти следующий потенциальный прототип\n",
    "    def find_next_possible_prototype(self):\n",
    "        max_dist = 0.0\n",
    "        prototype_obj_idx = -1\n",
    "        for obj_idx in self.X_set.index:\n",
    "            min_dist = sys.float_info.max\n",
    "            for cluster in self.clusters:\n",
    "                dist = cluster['dist'][obj_idx]\n",
    "                if dist < min_dist:\n",
    "                    min_dist = cluster['dist'][obj_idx]\n",
    "            if min_dist > max_dist:\n",
    "                max_dist = min_dist\n",
    "                prototype_obj_idx = obj_idx\n",
    "        return prototype_obj_idx, max_dist\n",
    "\n",
    "    # поулчить серию расстояний от всех объектов до данного\n",
    "    def get_series_of_dist_to_obj(self, obj):\n",
    "        return self.X_set.apply(lambda row: self.metric_func(row, obj), axis=1)"
   ]
  },
  {
   "cell_type": "code",
   "execution_count": 5,
   "metadata": {},
   "outputs": [],
   "source": [
    "# кластеризатор\n",
    "class KMeansMethod:\n",
    "    def __init__(self, X_set, cluster_count):\n",
    "        self.X_set = X_set\n",
    "        self.cluster_count = cluster_count\n",
    "        self.clusters = []\n",
    "        # метрика (евклидова)\n",
    "        self.metric_func = lambda x, y: ((x - y) ** 2).sum()\n",
    "        self.delta_eps = 0.01 * 0.01\n",
    "\n",
    "    # поулчаем кластеры с объектами\n",
    "    def get_clusters(self, indexes=True):\n",
    "        cluster_objs = {}\n",
    "        for obj_idx, obj in self.X_set.iterrows():\n",
    "            min_dist = sys.float_info.max\n",
    "            cluster_idx = -1\n",
    "            for (i, prototype_obj) in enumerate(self.clusters):\n",
    "                dist = self.metric_func(obj, prototype_obj)\n",
    "                if dist < min_dist:\n",
    "                    min_dist = dist\n",
    "                    cluster_idx = i\n",
    "            if indexes:\n",
    "                cluster_objs.setdefault(cluster_idx, []).append(obj_idx)\n",
    "            else:\n",
    "                cluster_objs.setdefault(cluster_idx, []).append(obj)\n",
    "        return cluster_objs\n",
    "\n",
    "    # запуск алгоритма\n",
    "    def start(self):\n",
    "        self.clusters.clear()\n",
    "        for i in range(0, self.cluster_count):\n",
    "            self.clusters.append(self.X_set.loc[i])\n",
    "\n",
    "        while True:\n",
    "            cluster_objs = self.get_clusters(False)\n",
    "            end = True\n",
    "            for cluster_idx, objs in cluster_objs.items():\n",
    "                df = pd.DataFrame(objs)\n",
    "                mean_val = df.mean()\n",
    "                if self.metric_func(self.clusters[cluster_idx], mean_val) >= self.delta_eps:\n",
    "                    self.clusters[cluster_idx] = mean_val\n",
    "                    end = False\n",
    "            if end:\n",
    "                break"
   ]
  },
  {
   "cell_type": "code",
   "execution_count": 68,
   "metadata": {},
   "outputs": [],
   "source": [
    "# классификатор\n",
    "class KNearestNeighbors:\n",
    "    def __init__(self, k):\n",
    "        self.k = k\n",
    "        self.metric_func = lambda x, y: ((x - y) ** 2).sum()\n",
    "        \n",
    "    def train(self, X_train, y_train):\n",
    "        self.X_train = X_train\n",
    "        self.y_train = y_train\n",
    "\n",
    "    def predict(self, sample):\n",
    "        indexes = self.X_train.apply(lambda row: self.metric_func(row, sample), axis=1).to_frame().sort_values(0).head(self.k).index\n",
    "        return self.y_train[indexes].value_counts().idxmax()\n",
    "\n",
    "    def predict_test_set(self, X_test):\n",
    "        return X_test.apply(lambda row: self.predict(row), axis=1)"
   ]
  },
  {
   "cell_type": "code",
   "execution_count": 69,
   "metadata": {},
   "outputs": [],
   "source": [
    "def add_bias_feature(a):\n",
    "    a_extended = np.zeros((a.shape[0], a.shape[1] + 1))\n",
    "    a_extended[:, :-1] = a\n",
    "    a_extended[:, -1] = 1.\n",
    "    return a_extended\n",
    "\n",
    "\n",
    "# классификатор\n",
    "class SVM:\n",
    "    def __init__(self):\n",
    "        self.w = None\n",
    "\n",
    "    def train(self, X_train, y_train, epoches_count=1000, batch_size=20, alpha=0.1):\n",
    "        # создаем вектор весов, расширяя пространство на 1\n",
    "        self.w = torch.rand([X_train.shape[1] + 1, 1], requires_grad=True)\n",
    "\n",
    "        # стохастический градиентный спуск\n",
    "        optimizer = torch.optim.SGD([self.w], lr=0.001)\n",
    "        for epoch in range(epoches_count):\n",
    "            # перемешиваем индексы\n",
    "            order = np.random.permutation(len(X_train))\n",
    "            sum_loss = 0\n",
    "            for start_index in range(0, len(X_train), batch_size):\n",
    "                optimizer.zero_grad()\n",
    "                # формируем батч\n",
    "                batch_indexes = order[start_index:start_index + batch_size]\n",
    "                X_batch = torch.tensor(add_bias_feature(X_train.iloc[batch_indexes].values).astype(np.float32))\n",
    "                y_batch = torch.tensor(y_train.iloc[batch_indexes].values.astype(np.float32)).unsqueeze(1)\n",
    "\n",
    "                # построение графа вычислений для функции потерь SVM\n",
    "                loss_val = torch.clamp(1. - y_batch * X_batch @ self.w, min=0)\n",
    "                loss_val = loss_val.mean() + alpha * self.w.t() @ self.w / 2.\n",
    "\n",
    "                # нахождение градиента\n",
    "                loss_val.backward()\n",
    "                optimizer.step()\n",
    "                sum_loss += float(loss_val)\n",
    "            #predicted = self.predict_test_set(X_test)\n",
    "            #accuracy = (y_test == predicted).mean()\n",
    "            #print(f'accuracy = {accuracy}, sum_loss = {sum_loss}')\n",
    "\n",
    "    def predict(self, sample):\n",
    "        x = sample.values\n",
    "        x = np.append(x, 1.)\n",
    "        label = self.w.t() @ torch.tensor(x.astype(np.float32))\n",
    "        return np.sign(label.item())\n",
    "\n",
    "    def predict_test_set(self, X_test):\n",
    "        return X_test.apply(lambda row: self.predict(row), axis=1)"
   ]
  },
  {
   "cell_type": "code",
   "execution_count": 434,
   "metadata": {},
   "outputs": [],
   "source": [
    "# загружаем множество объектов\n",
    "iris = load_iris()\n",
    "X = pd.DataFrame(iris.data, columns=iris.feature_names)\n",
    "y = pd.Series(iris.target).map(lambda label: -1.0 if label == 2 else 1.0)\n",
    "# положительный класс имеет метку 1.0"
   ]
  },
  {
   "cell_type": "code",
   "execution_count": 57,
   "metadata": {},
   "outputs": [],
   "source": [
    "maxmin_method = MaxminMethod(X)\n",
    "maxmin_method.start()\n",
    "clusters1 = maxmin_method.get_clusters()\n",
    "\n",
    "k_means_method = KMeansMethod(X, 3)\n",
    "k_means_method.start()\n",
    "clusters2 = k_means_method.get_clusters()"
   ]
  },
  {
   "cell_type": "code",
   "execution_count": 435,
   "metadata": {},
   "outputs": [],
   "source": [
    "# делим множество на train/test\n",
    "X_train, X_test, y_train, y_test = train_test_split(X, y, test_size=0.1, random_state=5)\n",
    "\n",
    "classifier1 = KNearestNeighbors(5)\n",
    "classifier1.train(X_train, y_train)\n",
    "predicted1 = classifier1.predict_test_set(X_test)\n",
    "\n",
    "classifier2 = SVM()\n",
    "classifier2.train(X_train, y_train)\n",
    "predicted2 = classifier2.predict_test_set(X_test)"
   ]
  },
  {
   "cell_type": "code",
   "execution_count": 430,
   "metadata": {},
   "outputs": [],
   "source": [
    "def draw_roc(y_test, predicted):\n",
    "    df = pd.DataFrame({'score': predicted, 'label': y_test}).sort_values(by='score', ascending=False)\n",
    "    pos_labels = df[df.label >= 0.0]\n",
    "    neg_labels = df[df.label < 0.0]\n",
    "    x_grid = [i/len(neg_labels) for i in range(0,len(neg_labels)+1)]\n",
    "    x_grid.insert(0, -0.001)\n",
    "    y_values = [0.0 for i in range(0,len(neg_labels) + 2)]\n",
    "    \n",
    "    i = 1\n",
    "    cur_step_up = 0.0\n",
    "    for idx, row in df.iterrows():\n",
    "        if row[1] >= 0:\n",
    "            cur_step_up += 1.0 / len(pos_labels)\n",
    "        else:\n",
    "            y_values[i] = cur_step_up\n",
    "            i += 1\n",
    "    y_values[i] = cur_step_up\n",
    "    \n",
    "    plt.plot(x_grid, y_values, marker='s')\n",
    "    plt.plot([0.0, 1.0], [0.0, 1.0])\n",
    "    plt.show()"
   ]
  },
  {
   "cell_type": "code",
   "execution_count": 428,
   "metadata": {},
   "outputs": [],
   "source": [
    "def estimate_clf(y_test, predicted):\n",
    "    TP = ((y_test == 1.0) & (predicted == 1.0)).sum()\n",
    "    TN = ((y_test == -1.0) & (predicted == -1.0)).sum()\n",
    "    FP = ((y_test == -1.0) & (predicted == 1.0)).sum()\n",
    "    FN = ((y_test == 1.0) & (predicted == -1.0)).sum()\n",
    "    precision = TP / (TP + FP)\n",
    "    recall = TP / (TP + FN)\n",
    "    f1 = 2 * precision * recall / (precision + recall)\n",
    "    MSE = (y_test - predicted).pow(2).mean()\n",
    "    print(f'1) точность = {precision}, полнота = {recall}, F1-мера = {f1}')\n",
    "    print(f'2) ROC-кривая')\n",
    "    draw_roc(y_test, predicted)\n",
    "    print(f'3) MSE = {MSE}')\n",
    "    print(f'4) матрица неточности:\\n{TN} | {FN}\\n{FP} | {TP}')"
   ]
  },
  {
   "cell_type": "code",
   "execution_count": 89,
   "metadata": {},
   "outputs": [],
   "source": [
    "def cross_validation(clf, X, y, k=5):\n",
    "    order = np.random.permutation(X.index)\n",
    "    part_size = len(X) // k\n",
    "    total_accuracy = 0.0\n",
    "    for start_index in range(0, len(order), part_size):\n",
    "        train_indexes = np.hstack([order[:start_index], order[start_index + part_size:]])\n",
    "        test_indexes = order[start_index:start_index + part_size]\n",
    "        clf.train(X.loc[train_indexes], y[train_indexes])\n",
    "        predicted = clf.predict_test_set(X.loc[test_indexes])\n",
    "        accuracy = (y[test_indexes] == predicted).mean()\n",
    "        total_accuracy += accuracy\n",
    "    return total_accuracy / k"
   ]
  },
  {
   "cell_type": "code",
   "execution_count": 436,
   "metadata": {},
   "outputs": [
    {
     "name": "stdout",
     "output_type": "stream",
     "text": [
      "KNearestNeighbors\n",
      "1) точность = 1.0, полнота = 0.8888888888888888, F1-мера = 0.9411764705882353\n",
      "2) ROC-кривая\n"
     ]
    },
    {
     "data": {
      "image/png": "[encoded data removed]",
      "text/plain": [
       "<Figure size 432x288 with 1 Axes>"
      ]
     },
     "metadata": {
      "needs_background": "light"
     },
     "output_type": "display_data"
    },
    {
     "name": "stdout",
     "output_type": "stream",
     "text": [
      "3) MSE = 0.26666666666666666\n",
      "4) матрица неточности:\n",
      "6 | 1\n",
      "0 | 8\n",
      "5) Кросс-валидация = 0.9666666666666668\n"
     ]
    }
   ],
   "source": [
    "print('KNearestNeighbors')\n",
    "estimate_clf(y_test, predicted1)\n",
    "accuracy = cross_validation(classifier1, X, y)\n",
    "print(f'5) Кросс-валидация = {accuracy}')"
   ]
  },
  {
   "cell_type": "code",
   "execution_count": 437,
   "metadata": {},
   "outputs": [
    {
     "name": "stdout",
     "output_type": "stream",
     "text": [
      "SVM\n",
      "1) точность = 1.0, полнота = 0.7777777777777778, F1-мера = 0.8750000000000001\n",
      "2) ROC-кривая\n"
     ]
    },
    {
     "data": {
      "image/png": "[encoded data removed]",
      "text/plain": [
       "<Figure size 432x288 with 1 Axes>"
      ]
     },
     "metadata": {
      "needs_background": "light"
     },
     "output_type": "display_data"
    },
    {
     "name": "stdout",
     "output_type": "stream",
     "text": [
      "3) MSE = 0.5333333333333333\n",
      "4) матрица неточности:\n",
      "6 | 2\n",
      "0 | 7\n",
      "5) Кросс-валидация = 0.9333333333333333\n"
     ]
    }
   ],
   "source": [
    "print('SVM')\n",
    "estimate_clf(y_test, predicted2)\n",
    "accuracy = cross_validation(classifier2, X, y)\n",
    "print(f'5) Кросс-валидация = {accuracy}')"
   ]
  },
  {
   "cell_type": "code",
   "execution_count": 317,
   "metadata": {},
   "outputs": [],
   "source": [
    "def to_df(clusters):\n",
    "    result = None\n",
    "    for k, v in clusters.items():\n",
    "        df = X.loc[v].copy()\n",
    "        df['cluster'] = k\n",
    "        result = pd.concat([result, df])\n",
    "    return result\n",
    "\n",
    "# расстояние между кластерами (расстояние между ближайшими объектами)\n",
    "def get_min_dist_between_clusters(df, c1, c2):\n",
    "    cluster_objs1 = df[df.cluster == c1].drop('cluster', axis=1)\n",
    "    cluster_objs2 = df[df.cluster == c2].drop('cluster', axis=1)\n",
    "    return cluster_objs1.apply(\n",
    "        lambda obj1: cluster_objs2.apply(\n",
    "            lambda obj2: np.linalg.norm(obj1 - obj2), axis=1).min(), axis=1).min()"
   ]
  },
  {
   "cell_type": "code",
   "execution_count": 193,
   "metadata": {},
   "outputs": [],
   "source": [
    "def CoefficientOfDetermination(df):\n",
    "    all_objs = df.drop('cluster', axis=1)\n",
    "    global_center = all_objs.mean()\n",
    "    # глобальная изменчивость (SST = SSW + SSB)\n",
    "    SST = all_objs.apply(\n",
    "        lambda obj: ((obj - global_center) ** 2).sum(), axis=1).sum()\n",
    "    # внутригрупповая изменчивость\n",
    "    SSB = 0.0\n",
    "    for cluster_idx in df.cluster.unique():\n",
    "        cluster_objs = df[df.cluster == cluster_idx].drop('cluster', axis=1)\n",
    "        cluster_center = cluster_objs.mean()\n",
    "        SSB += cluster_objs.apply(\n",
    "            lambda obj: ((obj - cluster_center) ** 2).sum(), axis=1).sum()\n",
    "    return 1.0 - SSB / SST"
   ]
  },
  {
   "cell_type": "code",
   "execution_count": 291,
   "metadata": {},
   "outputs": [],
   "source": [
    "def Silhouette(df):\n",
    "    # найти ближайший кластер к объекту, ненаходящемуся в нем\n",
    "    def get_nearest_cluster(obj):\n",
    "        return df[df.cluster != obj.cluster].groupby('cluster').apply(\n",
    "            lambda objs: np.linalg.norm(objs.mean()[:-1] - obj[:-1])).idxmin()\n",
    "    # среднее расстояние от obj до других объектов из того же кластера\n",
    "    def calc_a(obj):\n",
    "        return df[df.cluster == obj.cluster].apply(\n",
    "            lambda obj2: np.linalg.norm((obj[:-1] - obj2[:-1]).values), axis=1).mean()\n",
    "    # среднее расстояние от obj до других объектов из другого кластера (ближайшего)\n",
    "    def calc_b(obj, nearest_cluster):\n",
    "        return df[df.cluster == nearest_cluster].apply(\n",
    "            lambda obj2: np.linalg.norm((obj[:-1] - obj2[:-1]).values), axis=1).mean()\n",
    "    # итоговая формула\n",
    "    def score_per_obj(a, b):\n",
    "        return (b - a) / max(a, b)\n",
    "    return df.apply(\n",
    "        lambda obj: score_per_obj(calc_a(obj), calc_b(obj, get_nearest_cluster(obj))), axis=1).mean()"
   ]
  },
  {
   "cell_type": "code",
   "execution_count": 319,
   "metadata": {},
   "outputs": [],
   "source": [
    "# суть: делим самое минимальное межкластерное расстояние на самый максимальный кластерный диаметр\n",
    "def DunnIndex(df):\n",
    "    # самое минимальное межкластерное расстояние между кластерами\n",
    "    clusters = df.cluster.unique()\n",
    "    min_dist_between_clusters = pd.Series([\n",
    "        get_min_dist_between_clusters(df, c1, c2) for c1 in clusters for c2 in clusters if c1 < c2]).min()\n",
    "    # самый максимальный кластерный диаметр \n",
    "    max_cluster_diameter = df.groupby('cluster').apply(\n",
    "        lambda cluster_objs: cluster_objs.apply(\n",
    "            lambda obj1: cluster_objs.apply(\n",
    "                lambda obj2: np.linalg.norm(obj1[:-1] - obj2[:-1]), axis=1).max(), axis=1)).max()\n",
    "    return min_dist_between_clusters / max_cluster_diameter"
   ]
  },
  {
   "cell_type": "code",
   "execution_count": 309,
   "metadata": {},
   "outputs": [],
   "source": [
    "def DBI(df):\n",
    "    # расстояние от объектов кластера до их центроидов\n",
    "    def calc_S(cluster_objs, cluster_center):\n",
    "        return cluster_objs.apply(\n",
    "                lambda obj: np.linalg.norm(cluster_center - obj), axis=1).mean()\n",
    "    # итог\n",
    "    def score(c1, c2):\n",
    "        cluster_objs1 = df[df.cluster == c1].drop('cluster', axis=1)\n",
    "        cluster_center1 = cluster_objs1.mean()\n",
    "        cluster_objs2 = df[df.cluster == c2].drop('cluster', axis=1)\n",
    "        cluster_center2 = cluster_objs2.mean()\n",
    "        return (calc_S(cluster_objs1, cluster_center1) + calc_S(cluster_objs2, cluster_center2)) / np.linalg.norm(cluster_center1 - cluster_center2)\n",
    "    \n",
    "    clusters = df.cluster.unique()\n",
    "    return pd.Series([\n",
    "        pd.Series([score(c1, c2) for c2 in clusters if c1 < c2]).max() for c1 in clusters]).mean()"
   ]
  },
  {
   "cell_type": "code",
   "execution_count": 347,
   "metadata": {},
   "outputs": [],
   "source": [
    "# https://www.dbs.ifi.lmu.de/~zimek/publications/SDM2014/DBCV.pdf\n",
    "def DBCV(df):\n",
    "    clusters = df.cluster.unique()\n",
    "    all_objs_count = df.shape[0]\n",
    "    # DSPC(Ci, Cj) is the minimum distance between any pair of points where one belongs to Ci and the other to Cj\n",
    "    def DSPC(c1, c2):\n",
    "        return get_min_dist_between_clusters(df, c1, c2)\n",
    "    # DSC(Ci) is the longest edge in the mutual-reachability MST of Ci (MST - мин. остовное дерево)\n",
    "    def DSC(c1):\n",
    "        edge_longs = []\n",
    "        cluster_objs = df[df.cluster == c1].drop('cluster', axis=1)\n",
    "        selected_nodes = set()\n",
    "        selected_nodes.add(next(cluster_objs.iterrows())[0])\n",
    "        for i in range(0, len(cluster_objs) - 1):\n",
    "            pot_new_nodes = []\n",
    "            for node in selected_nodes:\n",
    "                obj1 = cluster_objs.loc[node, :]\n",
    "                df2 = cluster_objs[(cluster_objs.index != node) & (~cluster_objs.index.isin(selected_nodes))].apply(\n",
    "                    lambda obj2: np.linalg.norm(obj1 - obj2), axis=1)\n",
    "                pot_new_nodes.append((df2.idxmin(), df2.min()))\n",
    "            new_node = min(pot_new_nodes, key=lambda x: x[1])\n",
    "            selected_nodes.add(new_node[0])\n",
    "            edge_longs.append(new_node[1])\n",
    "        return max(edge_longs)\n",
    "        \n",
    "    # нормализованный вес\n",
    "    def V(c1):\n",
    "        min_dspc = pd.Series([DSPC(c1, c2) for c2 in clusters if c2 != c1]).min()\n",
    "        dsc = DSC(c1)\n",
    "        return (min_dspc - dsc) / max(min_dspc, dsc)\n",
    "    # итог\n",
    "    def score(c1):\n",
    "        cluster_objs_count = df[df.cluster == c1].shape[0]\n",
    "        return cluster_objs_count * V(c1) / all_objs_count\n",
    "        \n",
    "    return pd.Series([score(c1) for c1 in clusters]).sum()"
   ]
  },
  {
   "cell_type": "code",
   "execution_count": 350,
   "metadata": {},
   "outputs": [],
   "source": [
    "def estimate_clst(clusters):\n",
    "    df = to_df(clusters)\n",
    "    score = CoefficientOfDetermination(df)\n",
    "    print(f'1. Коэффициент детерминации = {score}')\n",
    "    score = Silhouette(df)\n",
    "    print(f'2. Коэффициент силуэта = {score}')\n",
    "    score = DunnIndex(df)\n",
    "    print(f'3. Индекс Данна (Dunn index) = {score}')\n",
    "    score = DBI(df)\n",
    "    print(f'4. Индекс Девиса-Болдина (DBI) = {score}')\n",
    "    score = DBCV(df)\n",
    "    print(f'5. Индекс валидности по плотности кластеризации (DBCV) = {score}')"
   ]
  },
  {
   "cell_type": "code",
   "execution_count": 351,
   "metadata": {},
   "outputs": [
    {
     "name": "stdout",
     "output_type": "stream",
     "text": [
      "MaxminMethod\n",
      "1. Коэффициент детерминации = 0.8754015709670973\n",
      "2. Коэффициент силуэта = 0.5500928752067328\n",
      "3. Индекс Данна (Dunn index) = 0.04657464328326216\n",
      "4. Индекс Девиса-Болдина (DBI) = 0.5812453912762761\n"
     ]
    },
    {
     "name": "stderr",
     "output_type": "stream",
     "text": [
      "<ipython-input-309-f510075361cb>:16: DeprecationWarning: The default dtype for empty Series will be 'object' instead of 'float64' in a future version. Specify a dtype explicitly to silence this warning.\n",
      "  pd.Series([score(c1, c2) for c2 in clusters if c1 < c2]).max() for c1 in clusters]).mean()\n"
     ]
    },
    {
     "name": "stdout",
     "output_type": "stream",
     "text": [
      "5. Индекс валидности по плотности кластеризации (DBCV) = -0.3356276184115657\n"
     ]
    }
   ],
   "source": [
    "print('MaxminMethod')\n",
    "estimate_clst(clusters1)"
   ]
  },
  {
   "cell_type": "code",
   "execution_count": 352,
   "metadata": {},
   "outputs": [
    {
     "name": "stdout",
     "output_type": "stream",
     "text": [
      "KMeansMethod\n",
      "1. Коэффициент детерминации = 0.8842690514883129\n",
      "2. Коэффициент силуэта = 0.5601417195128096\n",
      "3. Индекс Данна (Dunn index) = 0.10943513103291669\n",
      "4. Индекс Девиса-Болдина (DBI) = 0.5900511838883067\n"
     ]
    },
    {
     "name": "stderr",
     "output_type": "stream",
     "text": [
      "<ipython-input-309-f510075361cb>:16: DeprecationWarning: The default dtype for empty Series will be 'object' instead of 'float64' in a future version. Specify a dtype explicitly to silence this warning.\n",
      "  pd.Series([score(c1, c2) for c2 in clusters if c1 < c2]).max() for c1 in clusters]).mean()\n"
     ]
    },
    {
     "name": "stdout",
     "output_type": "stream",
     "text": [
      "5. Индекс валидности по плотности кластеризации (DBCV) = -0.21388636012951617\n"
     ]
    }
   ],
   "source": [
    "print('KMeansMethod')\n",
    "estimate_clst(clusters2)"
   ]
  }
 ],
 "metadata": {
  "kernelspec": {
   "display_name": "Python 3",
   "language": "python",
   "name": "python3"
  },
  "language_info": {
   "codemirror_mode": {
    "name": "ipython",
    "version": 3
   },
   "file_extension": ".py",
   "mimetype": "text/x-python",
   "name": "python",
   "nbconvert_exporter": "python",
   "pygments_lexer": "ipython3",
   "version": "3.8.0"
  }
 },
 "nbformat": 4,
 "nbformat_minor": 4
}
