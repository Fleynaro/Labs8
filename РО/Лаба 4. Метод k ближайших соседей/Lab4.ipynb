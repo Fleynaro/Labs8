{
 "cells": [
  {
   "cell_type": "code",
   "execution_count": 1,
   "metadata": {},
   "outputs": [],
   "source": [
    "import sys\n",
    "import pandas as pd\n",
    "import numpy as np\n",
    "from sklearn.datasets import load_iris\n",
    "from sklearn.model_selection import train_test_split"
   ]
  },
  {
   "cell_type": "code",
   "execution_count": 2,
   "metadata": {},
   "outputs": [],
   "source": [
    "# кластеризатор\n",
    "class KNearestNeighbors:\n",
    "    def __init__(self, X_train, y_train, k):\n",
    "        self.X_train = X_train\n",
    "        self.y_train = y_train\n",
    "        self.k = k\n",
    "        self.metric_func = lambda x, y: ((x - y) ** 2).sum()\n",
    "\n",
    "    def predict(self, sample):\n",
    "        indexes = self.X_train.apply(lambda row: self.metric_func(row, sample), axis=1).to_frame().sort_values(0).head(self.k).index\n",
    "        return self.y_train[indexes].value_counts().idxmax()\n",
    "\n",
    "    def predict_test_set(self, X_test):\n",
    "        return X_test.apply(lambda row: self.predict(row), axis=1)"
   ]
  },
  {
   "cell_type": "code",
   "execution_count": 3,
   "metadata": {},
   "outputs": [
    {
     "name": "stdout",
     "output_type": "stream",
     "text": [
      "accuracy = 0.9333333333333333\n"
     ]
    }
   ],
   "source": [
    "# загружаем множество объектов\n",
    "iris = load_iris()\n",
    "X = pd.DataFrame(iris.data, columns=iris.feature_names)\n",
    "y = pd.Series(iris.target)\n",
    "\n",
    "# делим множество на train/test\n",
    "X_train, X_test, y_train, y_test = train_test_split(X, y, test_size=0.1)\n",
    "\n",
    "# кластеризация\n",
    "classifier = KNearestNeighbors(X, y, 5)\n",
    "predicted = classifier.predict_test_set(X_test)\n",
    "accuracy = (y_test == predicted).mean()\n",
    "print(f'accuracy = {accuracy}')"
   ]
  }
 ],
 "metadata": {
  "kernelspec": {
   "display_name": "Python 3",
   "language": "python",
   "name": "python3"
  },
  "language_info": {
   "codemirror_mode": {
    "name": "ipython",
    "version": 3
   },
   "file_extension": ".py",
   "mimetype": "text/x-python",
   "name": "python",
   "nbconvert_exporter": "python",
   "pygments_lexer": "ipython3",
   "version": "3.8.0"
  }
 },
 "nbformat": 4,
 "nbformat_minor": 4
}
